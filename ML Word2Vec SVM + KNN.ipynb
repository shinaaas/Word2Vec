{
  "nbformat": 4,
  "nbformat_minor": 0,
  "metadata": {
    "colab": {
      "name": "ML_Word2Vec_(Trifebi_Shina_S_Veronica_Retno_S) (1).ipynb",
      "provenance": [],
      "collapsed_sections": []
    },
    "kernelspec": {
      "name": "python3",
      "display_name": "Python 3"
    }
  },
  "cells": [
    {
      "cell_type": "code",
      "metadata": {
        "id": "Jyv09rkxtupw",
        "colab": {
          "base_uri": "https://localhost:8080/"
        },
        "outputId": "58491c85-45a4-4d0d-d07f-97e7fab64ee6"
      },
      "source": [
        "from google.colab import drive\n",
        "drive.mount('/content/drive') #akses ke google drive"
      ],
      "execution_count": null,
      "outputs": [
        {
          "output_type": "stream",
          "text": [
            "Mounted at /content/drive\n"
          ],
          "name": "stdout"
        }
      ]
    },
    {
      "cell_type": "code",
      "metadata": {
        "colab": {
          "base_uri": "https://localhost:8080/"
        },
        "id": "ElvwM8WXEs5c",
        "outputId": "58e392cc-fe49-4044-dd8c-4e415064546e"
      },
      "source": [
        "pip install nltk"
      ],
      "execution_count": null,
      "outputs": [
        {
          "output_type": "stream",
          "text": [
            "Requirement already satisfied: nltk in /usr/local/lib/python3.7/dist-packages (3.2.5)\n",
            "Requirement already satisfied: six in /usr/local/lib/python3.7/dist-packages (from nltk) (1.15.0)\n"
          ],
          "name": "stdout"
        }
      ]
    },
    {
      "cell_type": "code",
      "metadata": {
        "colab": {
          "base_uri": "https://localhost:8080/"
        },
        "id": "xL1ieb05EwMg",
        "outputId": "98192855-0ebb-4a18-b46d-b6de48c8876c"
      },
      "source": [
        "pip install Sastrawi"
      ],
      "execution_count": null,
      "outputs": [
        {
          "output_type": "stream",
          "text": [
            "Collecting Sastrawi\n",
            "\u001b[?25l  Downloading https://files.pythonhosted.org/packages/6f/4b/bab676953da3103003730b8fcdfadbdd20f333d4add10af949dd5c51e6ed/Sastrawi-1.0.1-py2.py3-none-any.whl (209kB)\n",
            "\r\u001b[K     |█▋                              | 10kB 15.8MB/s eta 0:00:01\r\u001b[K     |███▏                            | 20kB 20.4MB/s eta 0:00:01\r\u001b[K     |████▊                           | 30kB 18.9MB/s eta 0:00:01\r\u001b[K     |██████▎                         | 40kB 15.5MB/s eta 0:00:01\r\u001b[K     |███████▉                        | 51kB 8.5MB/s eta 0:00:01\r\u001b[K     |█████████▍                      | 61kB 9.5MB/s eta 0:00:01\r\u001b[K     |███████████                     | 71kB 8.5MB/s eta 0:00:01\r\u001b[K     |████████████▌                   | 81kB 9.4MB/s eta 0:00:01\r\u001b[K     |██████████████                  | 92kB 9.5MB/s eta 0:00:01\r\u001b[K     |███████████████▋                | 102kB 8.1MB/s eta 0:00:01\r\u001b[K     |█████████████████▏              | 112kB 8.1MB/s eta 0:00:01\r\u001b[K     |██████████████████▊             | 122kB 8.1MB/s eta 0:00:01\r\u001b[K     |████████████████████▎           | 133kB 8.1MB/s eta 0:00:01\r\u001b[K     |█████████████████████▉          | 143kB 8.1MB/s eta 0:00:01\r\u001b[K     |███████████████████████▍        | 153kB 8.1MB/s eta 0:00:01\r\u001b[K     |█████████████████████████       | 163kB 8.1MB/s eta 0:00:01\r\u001b[K     |██████████████████████████▋     | 174kB 8.1MB/s eta 0:00:01\r\u001b[K     |████████████████████████████▏   | 184kB 8.1MB/s eta 0:00:01\r\u001b[K     |█████████████████████████████▊  | 194kB 8.1MB/s eta 0:00:01\r\u001b[K     |███████████████████████████████▎| 204kB 8.1MB/s eta 0:00:01\r\u001b[K     |████████████████████████████████| 215kB 8.1MB/s \n",
            "\u001b[?25hInstalling collected packages: Sastrawi\n",
            "Successfully installed Sastrawi-1.0.1\n"
          ],
          "name": "stdout"
        }
      ]
    },
    {
      "cell_type": "code",
      "metadata": {
        "colab": {
          "base_uri": "https://localhost:8080/"
        },
        "id": "TSdSigOxtclI",
        "outputId": "96a08ec0-fb3e-4804-b54c-f515f7f24b16"
      },
      "source": [
        "import pandas as pd\n",
        "import numpy as np\n",
        "import matplotlib.pyplot as plt\n",
        "\n",
        "\n",
        "#Train Data\n",
        "trainDf =  pd.read_excel('/content/drive/My Drive/ml_data/train_v1.xlsx')\n",
        "print(\"Train shape data:\",trainDf.shape)\n",
        "\n",
        "NegatifDf = trainDf[trainDf[\"Sentimen\"]==\"Negatif\"].drop(\"Sentimen\",axis=1)\n",
        "NegatifDf[\"Sentimen\"] = 0\n",
        "\n",
        "PositifDf = trainDf[trainDf[\"Sentimen\"]==\"Positif\"].drop(\"Sentimen\",axis=1)\n",
        "PositifDf[\"Sentimen\"] = 1\n",
        "\n",
        "trainDf = pd.concat([NegatifDf,PositifDf],ignore_index=True)\n",
        "print(\"Final shape of train dataset:\",trainDf.shape)"
      ],
      "execution_count": null,
      "outputs": [
        {
          "output_type": "stream",
          "text": [
            "Train shape data: (640, 2)\n",
            "Final shape of train dataset: (640, 2)\n"
          ],
          "name": "stdout"
        }
      ]
    },
    {
      "cell_type": "code",
      "metadata": {
        "colab": {
          "base_uri": "https://localhost:8080/",
          "height": 947
        },
        "id": "dIJfYviz7Bfw",
        "outputId": "ea8ff8e5-c690-4165-e43a-b4458d5801d5"
      },
      "source": [
        "trainDf[300:330]"
      ],
      "execution_count": null,
      "outputs": [
        {
          "output_type": "execute_result",
          "data": {
            "text/html": [
              "<div>\n",
              "<style scoped>\n",
              "    .dataframe tbody tr th:only-of-type {\n",
              "        vertical-align: middle;\n",
              "    }\n",
              "\n",
              "    .dataframe tbody tr th {\n",
              "        vertical-align: top;\n",
              "    }\n",
              "\n",
              "    .dataframe thead th {\n",
              "        text-align: right;\n",
              "    }\n",
              "</style>\n",
              "<table border=\"1\" class=\"dataframe\">\n",
              "  <thead>\n",
              "    <tr style=\"text-align: right;\">\n",
              "      <th></th>\n",
              "      <th>Tweet</th>\n",
              "      <th>Sentimen</th>\n",
              "    </tr>\n",
              "  </thead>\n",
              "  <tbody>\n",
              "    <tr>\n",
              "      <th>300</th>\n",
              "      <td>Yang ga taat nyalahin pemerintah plin plan, pe...</td>\n",
              "      <td>0</td>\n",
              "    </tr>\n",
              "    <tr>\n",
              "      <th>301</th>\n",
              "      <td>Saya setuju pemerintah Jokowi plin plan ga teg...</td>\n",
              "      <td>0</td>\n",
              "    </tr>\n",
              "    <tr>\n",
              "      <th>302</th>\n",
              "      <td>Situasi covid dlm negeri semakin mengerikan. B...</td>\n",
              "      <td>0</td>\n",
              "    </tr>\n",
              "    <tr>\n",
              "      <th>303</th>\n",
              "      <td>Sejak awal Covid-19 muncul sampek sekarang kan...</td>\n",
              "      <td>0</td>\n",
              "    </tr>\n",
              "    <tr>\n",
              "      <th>304</th>\n",
              "      <td>Pemerintah yang kurang tegas, terkesan plin p...</td>\n",
              "      <td>0</td>\n",
              "    </tr>\n",
              "    <tr>\n",
              "      <th>305</th>\n",
              "      <td>Saya curiga,kenapa pemerintah plin plan mengha...</td>\n",
              "      <td>0</td>\n",
              "    </tr>\n",
              "    <tr>\n",
              "      <th>306</th>\n",
              "      <td>Pemerintah pusat fokus benahi ekonomi dan tida...</td>\n",
              "      <td>0</td>\n",
              "    </tr>\n",
              "    <tr>\n",
              "      <th>307</th>\n",
              "      <td>Bukan masalah suka gak suka, internal pemerint...</td>\n",
              "      <td>0</td>\n",
              "    </tr>\n",
              "    <tr>\n",
              "      <th>308</th>\n",
              "      <td>Jujur asli pemerintah emang plin plan dan engg...</td>\n",
              "      <td>0</td>\n",
              "    </tr>\n",
              "    <tr>\n",
              "      <th>309</th>\n",
              "      <td>#TerserahIndonesia #TerserahIndonesia PSBB di ...</td>\n",
              "      <td>0</td>\n",
              "    </tr>\n",
              "    <tr>\n",
              "      <th>310</th>\n",
              "      <td>Pemerintah plin plan yg membuat ini  semua Ter...</td>\n",
              "      <td>0</td>\n",
              "    </tr>\n",
              "    <tr>\n",
              "      <th>311</th>\n",
              "      <td>Mungkin dia lupa fakta klo pemerintah awalnya ...</td>\n",
              "      <td>0</td>\n",
              "    </tr>\n",
              "    <tr>\n",
              "      <th>312</th>\n",
              "      <td>saya sbg yg keberatan dg plin plannya pemerint...</td>\n",
              "      <td>0</td>\n",
              "    </tr>\n",
              "    <tr>\n",
              "      <th>313</th>\n",
              "      <td>gue pribadi sih dah cape ngikutin plin plan ny...</td>\n",
              "      <td>0</td>\n",
              "    </tr>\n",
              "    <tr>\n",
              "      <th>314</th>\n",
              "      <td>Masalahnya kebijakan pemerintah pusatnya plin ...</td>\n",
              "      <td>0</td>\n",
              "    </tr>\n",
              "    <tr>\n",
              "      <th>315</th>\n",
              "      <td>Menunggingi kebijakan plin plan pemerintah ter...</td>\n",
              "      <td>0</td>\n",
              "    </tr>\n",
              "    <tr>\n",
              "      <th>316</th>\n",
              "      <td>isu penistaan agama ramai diperbincangkan dite...</td>\n",
              "      <td>0</td>\n",
              "    </tr>\n",
              "    <tr>\n",
              "      <th>317</th>\n",
              "      <td>new normal alibi pemerintah gagal nangani covid</td>\n",
              "      <td>0</td>\n",
              "    </tr>\n",
              "    <tr>\n",
              "      <th>318</th>\n",
              "      <td>permasalahan negeri menyimpulkan indonesia gag...</td>\n",
              "      <td>0</td>\n",
              "    </tr>\n",
              "    <tr>\n",
              "      <th>319</th>\n",
              "      <td>kegagalan pembatasan sosial berskala memicu le...</td>\n",
              "      <td>0</td>\n",
              "    </tr>\n",
              "    <tr>\n",
              "      <th>320</th>\n",
              "      <td>Mari bersama kita perangi virus Covid 19 denga...</td>\n",
              "      <td>1</td>\n",
              "    </tr>\n",
              "    <tr>\n",
              "      <th>321</th>\n",
              "      <td>Pemerintah Terus Berinovasi Dalam Mendorong Pe...</td>\n",
              "      <td>1</td>\n",
              "    </tr>\n",
              "    <tr>\n",
              "      <th>322</th>\n",
              "      <td>Kita tdk boleh menyalahkan siapa 2 , apalagi p...</td>\n",
              "      <td>1</td>\n",
              "    </tr>\n",
              "    <tr>\n",
              "      <th>323</th>\n",
              "      <td>Mari bersama putus rantai penyebaran Covid-19 ...</td>\n",
              "      <td>1</td>\n",
              "    </tr>\n",
              "    <tr>\n",
              "      <th>324</th>\n",
              "      <td>Semakin byk kita  bersahabat.. Hidup bahagia d...</td>\n",
              "      <td>1</td>\n",
              "    </tr>\n",
              "    <tr>\n",
              "      <th>325</th>\n",
              "      <td>Mari meningkatkan  ibadah Puasa Ramadhan dan i...</td>\n",
              "      <td>1</td>\n",
              "    </tr>\n",
              "    <tr>\n",
              "      <th>326</th>\n",
              "      <td>menerapkan physical distancing, serta mengikut...</td>\n",
              "      <td>1</td>\n",
              "    </tr>\n",
              "    <tr>\n",
              "      <th>327</th>\n",
              "      <td>Ayo toh pda sadar diri untuk menghormati kebij...</td>\n",
              "      <td>1</td>\n",
              "    </tr>\n",
              "    <tr>\n",
              "      <th>328</th>\n",
              "      <td>Patuhi semua anjuran pemerintah, menahan diri ...</td>\n",
              "      <td>1</td>\n",
              "    </tr>\n",
              "    <tr>\n",
              "      <th>329</th>\n",
              "      <td>Mari meningkatkan  ibadah Puasa Ramadhan dan i...</td>\n",
              "      <td>1</td>\n",
              "    </tr>\n",
              "  </tbody>\n",
              "</table>\n",
              "</div>"
            ],
            "text/plain": [
              "                                                 Tweet  Sentimen\n",
              "300  Yang ga taat nyalahin pemerintah plin plan, pe...         0\n",
              "301  Saya setuju pemerintah Jokowi plin plan ga teg...         0\n",
              "302  Situasi covid dlm negeri semakin mengerikan. B...         0\n",
              "303  Sejak awal Covid-19 muncul sampek sekarang kan...         0\n",
              "304   Pemerintah yang kurang tegas, terkesan plin p...         0\n",
              "305  Saya curiga,kenapa pemerintah plin plan mengha...         0\n",
              "306  Pemerintah pusat fokus benahi ekonomi dan tida...         0\n",
              "307  Bukan masalah suka gak suka, internal pemerint...         0\n",
              "308  Jujur asli pemerintah emang plin plan dan engg...         0\n",
              "309  #TerserahIndonesia #TerserahIndonesia PSBB di ...         0\n",
              "310  Pemerintah plin plan yg membuat ini  semua Ter...         0\n",
              "311  Mungkin dia lupa fakta klo pemerintah awalnya ...         0\n",
              "312  saya sbg yg keberatan dg plin plannya pemerint...         0\n",
              "313  gue pribadi sih dah cape ngikutin plin plan ny...         0\n",
              "314  Masalahnya kebijakan pemerintah pusatnya plin ...         0\n",
              "315  Menunggingi kebijakan plin plan pemerintah ter...         0\n",
              "316  isu penistaan agama ramai diperbincangkan dite...         0\n",
              "317    new normal alibi pemerintah gagal nangani covid         0\n",
              "318  permasalahan negeri menyimpulkan indonesia gag...         0\n",
              "319  kegagalan pembatasan sosial berskala memicu le...         0\n",
              "320  Mari bersama kita perangi virus Covid 19 denga...         1\n",
              "321  Pemerintah Terus Berinovasi Dalam Mendorong Pe...         1\n",
              "322  Kita tdk boleh menyalahkan siapa 2 , apalagi p...         1\n",
              "323  Mari bersama putus rantai penyebaran Covid-19 ...         1\n",
              "324  Semakin byk kita  bersahabat.. Hidup bahagia d...         1\n",
              "325  Mari meningkatkan  ibadah Puasa Ramadhan dan i...         1\n",
              "326  menerapkan physical distancing, serta mengikut...         1\n",
              "327  Ayo toh pda sadar diri untuk menghormati kebij...         1\n",
              "328  Patuhi semua anjuran pemerintah, menahan diri ...         1\n",
              "329  Mari meningkatkan  ibadah Puasa Ramadhan dan i...         1"
            ]
          },
          "metadata": {
            "tags": []
          },
          "execution_count": 6
        }
      ]
    },
    {
      "cell_type": "code",
      "metadata": {
        "colab": {
          "base_uri": "https://localhost:8080/"
        },
        "id": "oLl8XN2RvMpw",
        "outputId": "206dddb9-69d8-4f6c-e8a9-8a5efd3c5d6f"
      },
      "source": [
        "#Train Data\n",
        "testDf =  pd.read_excel('/content/drive/My Drive/ml_data/test_v1.xlsx')\n",
        "print(\"Train shape data:\",testDf.shape)\n",
        "\n",
        "NegatifDf = testDf[testDf[\"Sentimen\"]==\"Negatif\"].drop(\"Sentimen\",axis=1)\n",
        "NegatifDf[\"Sentimen\"] = 0\n",
        "\n",
        "PositifDf = testDf[testDf[\"Sentimen\"]==\"Positif\"].drop(\"Sentimen\",axis=1)\n",
        "PositifDf[\"Sentimen\"] = 1\n",
        "\n",
        "testDf = pd.concat([NegatifDf,PositifDf],ignore_index=True)\n",
        "print(\"Final shape of train dataset:\",testDf.shape)"
      ],
      "execution_count": null,
      "outputs": [
        {
          "output_type": "stream",
          "text": [
            "Train shape data: (161, 2)\n",
            "Final shape of train dataset: (161, 2)\n"
          ],
          "name": "stdout"
        }
      ]
    },
    {
      "cell_type": "code",
      "metadata": {
        "colab": {
          "base_uri": "https://localhost:8080/",
          "height": 406
        },
        "id": "H4WarZzX723P",
        "outputId": "56f64ff6-8c1c-4730-d52c-0957e9ad3b34"
      },
      "source": [
        "testDf.head(160)"
      ],
      "execution_count": null,
      "outputs": [
        {
          "output_type": "execute_result",
          "data": {
            "text/html": [
              "<div>\n",
              "<style scoped>\n",
              "    .dataframe tbody tr th:only-of-type {\n",
              "        vertical-align: middle;\n",
              "    }\n",
              "\n",
              "    .dataframe tbody tr th {\n",
              "        vertical-align: top;\n",
              "    }\n",
              "\n",
              "    .dataframe thead th {\n",
              "        text-align: right;\n",
              "    }\n",
              "</style>\n",
              "<table border=\"1\" class=\"dataframe\">\n",
              "  <thead>\n",
              "    <tr style=\"text-align: right;\">\n",
              "      <th></th>\n",
              "      <th>Tweet</th>\n",
              "      <th>Sentimen</th>\n",
              "    </tr>\n",
              "  </thead>\n",
              "  <tbody>\n",
              "    <tr>\n",
              "      <th>0</th>\n",
              "      <td>pemerintah jokowi gagal melindungi rakyatnya p...</td>\n",
              "      <td>0</td>\n",
              "    </tr>\n",
              "    <tr>\n",
              "      <th>1</th>\n",
              "      <td>tta pi belanda jajah indonesia 350thn rakyat i...</td>\n",
              "      <td>0</td>\n",
              "    </tr>\n",
              "    <tr>\n",
              "      <th>2</th>\n",
              "      <td>kondisi indonesia pandemi covid 19 dimanfaatka...</td>\n",
              "      <td>0</td>\n",
              "    </tr>\n",
              "    <tr>\n",
              "      <th>3</th>\n",
              "      <td>pemerintah sengaja meliburkan perguruan mereda...</td>\n",
              "      <td>0</td>\n",
              "    </tr>\n",
              "    <tr>\n",
              "      <th>4</th>\n",
              "      <td>survei indonesia barometer pemerintah gagal at...</td>\n",
              "      <td>0</td>\n",
              "    </tr>\n",
              "    <tr>\n",
              "      <th>...</th>\n",
              "      <td>...</td>\n",
              "      <td>...</td>\n",
              "    </tr>\n",
              "    <tr>\n",
              "      <th>155</th>\n",
              "      <td>Pekerjaan dilakukan dengan menerapkan protokol...</td>\n",
              "      <td>1</td>\n",
              "    </tr>\n",
              "    <tr>\n",
              "      <th>156</th>\n",
              "      <td>himbauan dan anjuran pemerintah tidak untuk di...</td>\n",
              "      <td>1</td>\n",
              "    </tr>\n",
              "    <tr>\n",
              "      <th>157</th>\n",
              "      <td>Bhabinkamtibmas Polsek puding besar memberikan...</td>\n",
              "      <td>1</td>\n",
              "    </tr>\n",
              "    <tr>\n",
              "      <th>158</th>\n",
              "      <td>Apalagi Jakarta sebagai episentrum Covid-19 se...</td>\n",
              "      <td>1</td>\n",
              "    </tr>\n",
              "    <tr>\n",
              "      <th>159</th>\n",
              "      <td>bisa juga bekerja sama dengan aplikasi tranpor...</td>\n",
              "      <td>1</td>\n",
              "    </tr>\n",
              "  </tbody>\n",
              "</table>\n",
              "<p>160 rows × 2 columns</p>\n",
              "</div>"
            ],
            "text/plain": [
              "                                                 Tweet  Sentimen\n",
              "0    pemerintah jokowi gagal melindungi rakyatnya p...         0\n",
              "1    tta pi belanda jajah indonesia 350thn rakyat i...         0\n",
              "2    kondisi indonesia pandemi covid 19 dimanfaatka...         0\n",
              "3    pemerintah sengaja meliburkan perguruan mereda...         0\n",
              "4    survei indonesia barometer pemerintah gagal at...         0\n",
              "..                                                 ...       ...\n",
              "155  Pekerjaan dilakukan dengan menerapkan protokol...         1\n",
              "156  himbauan dan anjuran pemerintah tidak untuk di...         1\n",
              "157  Bhabinkamtibmas Polsek puding besar memberikan...         1\n",
              "158  Apalagi Jakarta sebagai episentrum Covid-19 se...         1\n",
              "159  bisa juga bekerja sama dengan aplikasi tranpor...         1\n",
              "\n",
              "[160 rows x 2 columns]"
            ]
          },
          "metadata": {
            "tags": []
          },
          "execution_count": 8
        }
      ]
    },
    {
      "cell_type": "code",
      "metadata": {
        "id": "KOogpi_6F1Sd"
      },
      "source": [
        "data_train = trainDf\n",
        "data_test = testDf"
      ],
      "execution_count": null,
      "outputs": []
    },
    {
      "cell_type": "code",
      "metadata": {
        "colab": {
          "base_uri": "https://localhost:8080/"
        },
        "id": "6Z3HknrD75sx",
        "outputId": "c1b81020-455f-45fc-e17f-c226e2e07260"
      },
      "source": [
        "import re\n",
        "import nltk\n",
        "from nltk.corpus import stopwords\n",
        "nltk.download(\"stopwords\")\n",
        "from Sastrawi.Stemmer.StemmerFactory import StemmerFactory"
      ],
      "execution_count": null,
      "outputs": [
        {
          "output_type": "stream",
          "text": [
            "[nltk_data] Downloading package stopwords to /root/nltk_data...\n",
            "[nltk_data]   Unzipping corpora/stopwords.zip.\n"
          ],
          "name": "stdout"
        }
      ]
    },
    {
      "cell_type": "code",
      "metadata": {
        "colab": {
          "base_uri": "https://localhost:8080/"
        },
        "id": "WxQcd9OcEdo_",
        "outputId": "cb4b1e43-8fb3-40fd-aa8d-18be9a0b2b5a"
      },
      "source": [
        "stop=set(stopwords.words(\"indonesian\"))\n",
        "stop_bow = set(stopwords.words(\"indonesian\"))\n",
        "stop_bow.discard(\"tidak\")\n",
        "factory = StemmerFactory()\n",
        "stemmer = factory.create_stemmer()\n",
        "#stemming_word = stemmer.stem()\n",
        "#sno = nltk.stem.SnowballStemmer(\"english\")\n",
        "\n",
        "train_text=data_train[\"Tweet\"]\n",
        "cleaned_text_bow=[]\n",
        "cleaned_text=[]\n",
        "for line in train_text:\n",
        "    tags = re.compile(\"^@[a-zA-Z_]*\")\n",
        "    line = re.sub(tags,\" \",line)\n",
        "    hashtags = re.compile(\"#|\\*\")\n",
        "    extraCharacters = re.compile(\"[^a-zA-Z]\")\n",
        "    line = re.sub(extraCharacters,\" \",line)\n",
        "\n",
        "    filtered_words=[]\n",
        "    filtered_words_bow=\"\"\n",
        "    for word in line.split():\n",
        "        word=word.lower()\n",
        "        if(word not in stop):\n",
        "            word = stemmer.stem(word)\n",
        "            filtered_words.append(word)\n",
        "        if(word not in stop_bow):\n",
        "            word = stemmer.stem(word)\n",
        "            filtered_words_bow+=\" \"+word\n",
        "    cleaned_text.append(filtered_words)\n",
        "    cleaned_text_bow.append(filtered_words_bow)\n",
        "            \n",
        "data_train_bow = pd.DataFrame(data=cleaned_text_bow,columns=[\"Tweet\"])\n",
        "data_train_bow[\"Sentimen\"] = data_train[\"Sentimen\"]\n",
        "data_train[\"Tweet\"]=cleaned_text\n",
        "print(data_train.head(10))\n",
        "print()\n",
        "print(data_train_bow.head(10))\n",
        "print()"
      ],
      "execution_count": null,
      "outputs": [
        {
          "output_type": "stream",
          "text": [
            "                                               Tweet  Sentimen\n",
            "0  [golong, yg, ga, tuju, perintah, tangan, covid...         0\n",
            "1  [covid, elit, global, main, perintah, masyarak...         0\n",
            "2  [yups, egois, materi, krn, rs, yg, pasien, cov...         0\n",
            "3  [klo, gw, perintah, tuh, terap, herd, immunity...         0\n",
            "4  [bilang, untung, ribu, warga, mati, daftar, ko...         0\n",
            "5                    [bahaya, covid, perintah, atas]         0\n",
            "6  [salah, keluarga, menit, tinggal, gara, gara, ...         0\n",
            "7  [bgmn, turun, masy, bnyk, yg, blm, sadar, peri...         0\n",
            "8    [perintah, sepele, covid, suruh, damai, dengan]         0\n",
            "9  [ga, damai, covid, rang, covid, protocol, seha...         0\n",
            "\n",
            "                                               Tweet  Sentimen\n",
            "0   golong yg ga tuju perintah tangan covid tp yg...         0\n",
            "1   covid elit global main perintah masyarakat re...         0\n",
            "2   yups egois materi krn rs yg pasien covid dpt ...         0\n",
            "3   klo gw perintah tuh terap herd immunity perin...         0\n",
            "4   bilang untung ribu warga mati daftar korban c...         0\n",
            "5                              bahaya covid perintah         0\n",
            "6   salah keluarga menit tinggal gara gara covid ...         0\n",
            "7   bgmn turun masy bnyk yg blm sadar perintah kr...         0\n",
            "8                  perintah sepele covid suruh damai         0\n",
            "9   ga damai covid rang covid protocol sehat who ...         0\n",
            "\n"
          ],
          "name": "stdout"
        }
      ]
    },
    {
      "cell_type": "code",
      "metadata": {
        "colab": {
          "base_uri": "https://localhost:8080/"
        },
        "id": "y5S9rxJNHwp8",
        "outputId": "70a78e5b-e992-4260-becb-70bf4cc2ab4c"
      },
      "source": [
        "#test cleaning\n",
        "test_text=data_test[\"Tweet\"]\n",
        "cleaned_text_bow=[]\n",
        "cleaned_text=[]\n",
        "for line in test_text:\n",
        "    tags = re.compile(\"^@[a-zA-Z_]*\")\n",
        "    line = re.sub(tags,\" \",line)\n",
        "    hashtags = re.compile(\"#|\\*\")\n",
        "    line = re.sub(hashtags,\"\",line)\n",
        "    extraCharacters = re.compile(\"[^a-zA-Z]\")\n",
        "    line = re.sub(extraCharacters,\" \",line)\n",
        "\n",
        "    filtered_words=[]\n",
        "    filtered_words_bow=\"\"\n",
        "    for word in line.split():\n",
        "        word=word.lower()\n",
        "        if(word not in stop):\n",
        "            word = stemmer.stem(word)\n",
        "            filtered_words.append(word)\n",
        "        if(word not in stop_bow):\n",
        "            word = stemmer.stem(word)\n",
        "            filtered_words_bow+=\" \"+word\n",
        "    cleaned_text.append(filtered_words)\n",
        "    cleaned_text_bow.append(filtered_words_bow)\n",
        "            \n",
        "data_test_bow = pd.DataFrame(data=cleaned_text_bow,columns=[\"Tweet\"])\n",
        "data_test_bow[\"Sentimen\"] = data_test[\"Sentimen\"]\n",
        "data_test[\"Tweet\"]=cleaned_text\n",
        "print(data_test.head(10))\n",
        "print()\n",
        "print(data_test_bow.head(10))\n",
        "print()"
      ],
      "execution_count": null,
      "outputs": [
        {
          "output_type": "stream",
          "text": [
            "                                               Tweet  Sentimen\n",
            "0  [perintah, jokowi, gagal, lindung, rakyat, pan...         0\n",
            "1  [tta, pi, belanda, jajah, indonesia, thn, raky...         0\n",
            "2  [kondisi, indonesia, pandemi, covid, manfaat, ...         0\n",
            "3  [perintah, sengaja, libur, guru, redam, suara,...         0\n",
            "4  [survei, indonesia, barometer, perintah, gagal...         0\n",
            "5  [sengaja, perintah, gagal, tangan, covid, paks...         0\n",
            "6                   [perintah, gagal, tangan, covid]         0\n",
            "7  [perintah, indonesia, nilai, gagal, perang, la...         0\n",
            "8  [upaya, perintah, hidup, ekonomi, tanggulang, ...         0\n",
            "9  [ngopi, gerombol, diskusi, perintah, gagal, ta...         0\n",
            "\n",
            "                                               Tweet  Sentimen\n",
            "0   perintah jokowi gagal lindung rakyat pandemi ...         0\n",
            "1   tta pi belanda jajah indonesia thn rakyat ind...         0\n",
            "2   kondisi indonesia pandemi covid manfaat berit...         0\n",
            "3   perintah sengaja libur guru redam suara mahas...         0\n",
            "4   survei indonesia barometer perintah gagal cov...         0\n",
            "5   sengaja perintah gagal tangan covid paksa ran...         0\n",
            "6                        perintah gagal tangan covid         0\n",
            "7   perintah indonesia nilai gagal perang lawan c...         0\n",
            "8   upaya perintah hidup ekonomi tanggulang tular...         0\n",
            "9   ngopi gerombol diskusi perintah gagal tangan ...         0\n",
            "\n"
          ],
          "name": "stdout"
        }
      ]
    },
    {
      "cell_type": "code",
      "metadata": {
        "id": "iyVVxv5wFa9D"
      },
      "source": [
        "#listStopword =  set(stopwords.words('indonesian'))\n",
        "#listStopword"
      ],
      "execution_count": null,
      "outputs": []
    },
    {
      "cell_type": "code",
      "metadata": {
        "id": "1fDBLFJ_Ffid"
      },
      "source": [
        "import gensim\n",
        "from tqdm import tqdm\n",
        "from sklearn.preprocessing import StandardScaler"
      ],
      "execution_count": null,
      "outputs": []
    },
    {
      "cell_type": "code",
      "metadata": {
        "id": "PCq6e_kzHs55"
      },
      "source": [
        "#Train on text data\n",
        "list_of_sent = data_train[\"Tweet\"]\n",
        "w2v_model=gensim.models.Word2Vec(list_of_sent,min_count=4,size=200, workers=4, sg=1) #size = ukuran vector yg diinginkan, default cbow\n",
        "w2v_words=list(w2v_model.wv.vocab) #corpus/vocab ambil dr kata yg ada di data train "
      ],
      "execution_count": null,
      "outputs": []
    },
    {
      "cell_type": "code",
      "metadata": {
        "colab": {
          "base_uri": "https://localhost:8080/"
        },
        "id": "B7hJL6F6X9sO",
        "outputId": "08b11137-c78e-49cf-c5e1-90ee009f76e9"
      },
      "source": [
        "len(w2v_words)"
      ],
      "execution_count": null,
      "outputs": [
        {
          "output_type": "execute_result",
          "data": {
            "text/plain": [
              "539"
            ]
          },
          "metadata": {
            "tags": []
          },
          "execution_count": 16
        }
      ]
    },
    {
      "cell_type": "code",
      "metadata": {
        "colab": {
          "base_uri": "https://localhost:8080/"
        },
        "id": "_pC9tIHhLUMe",
        "outputId": "bf5692c9-1bf4-476a-bfc7-839f942fa13a"
      },
      "source": [
        "#Vectorize train text data\n",
        "listof_sent_vec=[]\n",
        "for sent in tqdm(list_of_sent): \n",
        "    sent_vec = np.zeros(200) \n",
        "    cnt_words =0; \n",
        "    for word in sent: \n",
        "        if word in w2v_words:\n",
        "            vec = w2v_model.wv[word]\n",
        "            sent_vec += vec\n",
        "            cnt_words += 1\n",
        "    if cnt_words != 0:\n",
        "        sent_vec /= cnt_words\n",
        "    listof_sent_vec.append(sent_vec)\n",
        "    \n",
        "Label = data_train[\"Sentimen\"]\n",
        "list_col=tuple(range(200))\n",
        "Scaler = StandardScaler()\n",
        "train_vec = Scaler.fit_transform(listof_sent_vec)\n",
        "W2v_data_train=pd.DataFrame(data=train_vec, columns=list_col)\n",
        "W2v_data_train[\"Sentimen\"] = Label\n",
        "print(W2v_data_train.head(10))\n",
        "print(W2v_data_train.shape)"
      ],
      "execution_count": null,
      "outputs": [
        {
          "output_type": "stream",
          "text": [
            "100%|██████████| 640/640 [00:00<00:00, 6807.00it/s]"
          ],
          "name": "stderr"
        },
        {
          "output_type": "stream",
          "text": [
            "          0         1         2  ...       198       199  Sentimen\n",
            "0 -1.456860 -0.471422 -0.496446  ...  0.307035  0.354797         0\n",
            "1 -1.510646 -0.809188 -0.927835  ...  0.830435  0.977097         0\n",
            "2 -0.154921  0.484889  0.214612  ... -0.374557 -0.506176         0\n",
            "3 -0.484088  0.002101 -0.330604  ...  0.351350  0.224772         0\n",
            "4 -0.242615  0.305686 -0.127978  ...  0.242845  0.075801         0\n",
            "5  0.467299 -1.086624 -0.599880  ...  0.891804  1.181470         0\n",
            "6 -0.911523 -0.663828 -0.132020  ...  0.530692  0.251749         0\n",
            "7  0.452820  1.407324  1.444882  ... -1.681689 -1.450635         0\n",
            "8  1.391545  0.008232  0.793206  ... -1.137143 -0.514541         0\n",
            "9 -0.498159  0.252964 -0.046061  ...  0.233136  0.069423         0\n",
            "\n",
            "[10 rows x 201 columns]\n",
            "(640, 201)\n"
          ],
          "name": "stdout"
        },
        {
          "output_type": "stream",
          "text": [
            "\n"
          ],
          "name": "stderr"
        }
      ]
    },
    {
      "cell_type": "code",
      "metadata": {
        "colab": {
          "base_uri": "https://localhost:8080/"
        },
        "id": "hR7ZRjejLk4j",
        "outputId": "e97a9083-e9a5-405c-ca0e-4eee38188c91"
      },
      "source": [
        "#test\n",
        "list_of_sent= data_test[\"Tweet\"]\n",
        "listof_sent_vec=[]\n",
        "\n",
        "for sent in tqdm(list_of_sent): \n",
        "    sent_vec = np.zeros(200) \n",
        "    cnt_words =0; \n",
        "    for word in sent: \n",
        "        if word in w2v_words:\n",
        "            vec = w2v_model.wv[word]\n",
        "            sent_vec += vec\n",
        "            cnt_words += 1\n",
        "    if cnt_words != 0:\n",
        "        sent_vec /= cnt_words\n",
        "    listof_sent_vec.append(sent_vec)\n",
        "    \n",
        "Label = data_test[\"Sentimen\"]\n",
        "list_col=tuple(range(200))\n",
        "test_vec = Scaler.transform(listof_sent_vec)\n",
        "W2v_data_test=pd.DataFrame(data=test_vec, columns=list_col)\n",
        "W2v_data_test[\"Sentimen\"] = Label\n",
        "print(W2v_data_test.head(10))\n",
        "print(W2v_data_test.shape)"
      ],
      "execution_count": null,
      "outputs": [
        {
          "output_type": "stream",
          "text": [
            "100%|██████████| 161/161 [00:00<00:00, 7788.10it/s]"
          ],
          "name": "stderr"
        },
        {
          "output_type": "stream",
          "text": [
            "          0         1         2  ...       198       199  Sentimen\n",
            "0 -0.669978 -1.190009 -1.405864  ...  1.303876  1.378859         0\n",
            "1 -0.180147  0.570784 -0.066699  ...  0.017355  0.019024         0\n",
            "2  0.213778  0.402609 -0.368500  ...  0.513624  0.359796         0\n",
            "3  1.862486  1.903485  2.766884  ... -2.661921 -2.650799         0\n",
            "4  2.779037  3.285389  3.280700  ... -3.208420 -3.070888         0\n",
            "5  0.747931  1.094473  1.254615  ... -0.923335 -1.282160         0\n",
            "6  0.662888 -1.211092 -1.071596  ...  1.013568  1.362681         0\n",
            "7  0.805110 -0.358807 -0.787939  ...  0.598646  0.657886         0\n",
            "8  0.000063 -0.599067 -0.671598  ...  0.724200  0.792683         0\n",
            "9  0.662888 -1.211092 -1.071596  ...  1.013568  1.362681         0\n",
            "\n",
            "[10 rows x 201 columns]\n",
            "(161, 201)\n"
          ],
          "name": "stdout"
        },
        {
          "output_type": "stream",
          "text": [
            "\n"
          ],
          "name": "stderr"
        }
      ]
    },
    {
      "cell_type": "code",
      "metadata": {
        "colab": {
          "base_uri": "https://localhost:8080/"
        },
        "id": "2pmFwe0sL4wD",
        "outputId": "f8c2e7d0-e9d9-49cd-b64e-45d5e1947f44"
      },
      "source": [
        "X_train_w2v = W2v_data_train.drop(\"Sentimen\",axis=1).to_numpy()\n",
        "y_train_w2v = W2v_data_train[\"Sentimen\"].to_numpy()\n",
        "\n",
        "X_test_w2v = W2v_data_test.drop(\"Sentimen\",axis=1).to_numpy()\n",
        "y_test_w2v = W2v_data_test[\"Sentimen\"].to_numpy()\n",
        "\n",
        "print(\"Final shape of Train X and y for word2vec:\",X_train_w2v.shape,y_train_w2v.shape)\n",
        "print(\"Final shape of Test X and y for word2vec:\",X_test_w2v.shape,y_test_w2v.shape)"
      ],
      "execution_count": null,
      "outputs": [
        {
          "output_type": "stream",
          "text": [
            "Final shape of Train X and y for word2vec: (640, 200) (640,)\n",
            "Final shape of Test X and y for word2vec: (161, 200) (161,)\n"
          ],
          "name": "stdout"
        }
      ]
    },
    {
      "cell_type": "code",
      "metadata": {
        "id": "0FVfazkQMbQA"
      },
      "source": [
        "# Modelling\n",
        "# Preparation\n",
        "from sklearn.metrics import accuracy_score\n",
        "from sklearn.metrics import confusion_matrix\n",
        "from sklearn.metrics import f1_score\n",
        "\n",
        "def showCnfMat(y_true,y_pred):\n",
        "    mat = confusion_matrix(y_true,y_pred)\n",
        "    for arr in mat:\n",
        "        print(\" \".join(list(map(str, arr))))\n",
        "        \n",
        "def plotHyperparameterScores(values,scores,scoring=\"accuracy\",parameter=\"Lamda\"):\n",
        "    if(scoring==\"f1\"):\n",
        "        bestScore = min(scores)\n",
        "    elif(scoring==\"accuracy\"):\n",
        "        bestScore = max(scores)\n",
        "    index = scores.index(bestScore)\n",
        "    val = values[index]\n",
        "    plt.plot(values,scores)\n",
        "    plt.show()\n",
        "    print(f\"Best Score at {parameter}: {val}\")\n",
        "    return val"
      ],
      "execution_count": null,
      "outputs": []
    },
    {
      "cell_type": "code",
      "metadata": {
        "colab": {
          "base_uri": "https://localhost:8080/",
          "height": 317
        },
        "id": "VoE3Lww32md2",
        "outputId": "66ee8b3c-f672-4dc4-a6fb-d0d698d23640"
      },
      "source": [
        "from sklearn import svm\n",
        "\n",
        "C_values=[1,10,40,60,100]\n",
        "test_scores = []\n",
        "\n",
        "for C in C_values:\n",
        "    SVM = svm.SVC(C = C, kernel='linear', probability=True, degree=3, gamma='auto')\n",
        "    SVM.fit(X_train_w2v,y_train_w2v)\n",
        "    y_pred = SVM.predict(X_test_w2v)\n",
        "    test_scores.append(accuracy_score(y_test_w2v,y_pred))\n",
        "    \n",
        "optimal_C_SVM = plotHyperparameterScores(C_values,test_scores,\"accuracy\",\"C\")\n",
        "SVM_modelW2v = svm.SVC(C = C, kernel='linear', probability=True, degree=3, gamma='auto')\n",
        "SVM_modelW2v.fit(X_train_w2v, y_train_w2v)\n",
        "\n",
        "y_predTrain= SVM_modelW2v.predict(X_train_w2v)\n",
        "y_predTest = SVM_modelW2v.predict(X_test_w2v)\n",
        "accTrain = accuracy_score(y_train_w2v, y_predTrain)\n",
        "accTest = accuracy_score(y_test_w2v, y_predTest)\n",
        "print(\"Final accuracy on train data:\",accTrain)\n",
        "print(\"Final accuracy on test data:\",accTest)"
      ],
      "execution_count": null,
      "outputs": [
        {
          "output_type": "display_data",
          "data": {
            "image/png": "[encoded data removed]",
            "text/plain": [
              "<Figure size 432x288 with 1 Axes>"
            ]
          },
          "metadata": {
            "tags": [],
            "needs_background": "light"
          }
        },
        {
          "output_type": "stream",
          "text": [
            "Best Score at C: 1\n",
            "Final accuracy on train data: 0.996875\n",
            "Final accuracy on test data: 0.8385093167701864\n"
          ],
          "name": "stdout"
        }
      ]
    },
    {
      "cell_type": "code",
      "metadata": {
        "colab": {
          "base_uri": "https://localhost:8080/"
        },
        "id": "EyNF1nFGs9gA",
        "outputId": "c8078c46-38ce-458e-e6c0-b160dc5bc0d1"
      },
      "source": [
        "from sklearn.metrics import confusion_matrix\n",
        "print('Confusion matrix: ')\n",
        "confusion_matrix(y_test_w2v,y_predTest)"
      ],
      "execution_count": null,
      "outputs": [
        {
          "output_type": "stream",
          "text": [
            "Confusion matrix: \n"
          ],
          "name": "stdout"
        },
        {
          "output_type": "execute_result",
          "data": {
            "text/plain": [
              "array([[73,  8],\n",
              "       [18, 62]])"
            ]
          },
          "metadata": {
            "tags": []
          },
          "execution_count": 22
        }
      ]
    },
    {
      "cell_type": "code",
      "metadata": {
        "colab": {
          "base_uri": "https://localhost:8080/",
          "height": 107
        },
        "id": "A4n8WN7CtOVG",
        "outputId": "6c88439c-8f2c-4d02-fb20-84020cc0e295"
      },
      "source": [
        "from sklearn.metrics import confusion_matrix\n",
        "\n",
        "pd.DataFrame(confusion_matrix(y_test_w2v,y_predTest), columns=['Predicted Negatif', \"Predicted Positif\"], index=['Actual Negatif', 'Actual Positif'])"
      ],
      "execution_count": null,
      "outputs": [
        {
          "output_type": "execute_result",
          "data": {
            "text/html": [
              "<div>\n",
              "<style scoped>\n",
              "    .dataframe tbody tr th:only-of-type {\n",
              "        vertical-align: middle;\n",
              "    }\n",
              "\n",
              "    .dataframe tbody tr th {\n",
              "        vertical-align: top;\n",
              "    }\n",
              "\n",
              "    .dataframe thead th {\n",
              "        text-align: right;\n",
              "    }\n",
              "</style>\n",
              "<table border=\"1\" class=\"dataframe\">\n",
              "  <thead>\n",
              "    <tr style=\"text-align: right;\">\n",
              "      <th></th>\n",
              "      <th>Predicted Negatif</th>\n",
              "      <th>Predicted Positif</th>\n",
              "    </tr>\n",
              "  </thead>\n",
              "  <tbody>\n",
              "    <tr>\n",
              "      <th>Actual Negatif</th>\n",
              "      <td>73</td>\n",
              "      <td>8</td>\n",
              "    </tr>\n",
              "    <tr>\n",
              "      <th>Actual Positif</th>\n",
              "      <td>18</td>\n",
              "      <td>62</td>\n",
              "    </tr>\n",
              "  </tbody>\n",
              "</table>\n",
              "</div>"
            ],
            "text/plain": [
              "                Predicted Negatif  Predicted Positif\n",
              "Actual Negatif                 73                  8\n",
              "Actual Positif                 18                 62"
            ]
          },
          "metadata": {
            "tags": []
          },
          "execution_count": 23
        }
      ]
    },
    {
      "cell_type": "code",
      "metadata": {
        "colab": {
          "base_uri": "https://localhost:8080/"
        },
        "id": "kCNDhND2_VTN",
        "outputId": "fbfd4820-273b-4afc-d82a-6830f3c99ae3"
      },
      "source": [
        "from sklearn.metrics import classification_report\n",
        "\n",
        "print(classification_report(y_test_w2v,y_predTest))"
      ],
      "execution_count": null,
      "outputs": [
        {
          "output_type": "stream",
          "text": [
            "              precision    recall  f1-score   support\n",
            "\n",
            "           0       0.80      0.90      0.85        81\n",
            "           1       0.89      0.78      0.83        80\n",
            "\n",
            "    accuracy                           0.84       161\n",
            "   macro avg       0.84      0.84      0.84       161\n",
            "weighted avg       0.84      0.84      0.84       161\n",
            "\n"
          ],
          "name": "stdout"
        }
      ]
    },
    {
      "cell_type": "code",
      "metadata": {
        "colab": {
          "base_uri": "https://localhost:8080/"
        },
        "id": "BjpfOtZ6x0a5",
        "outputId": "67bae58b-be53-44f5-928c-cfacebee9439"
      },
      "source": [
        "tn, fp, fn, tp = confusion_matrix(y_test_w2v,y_predTest).ravel()\n",
        "print(f'True Positives: {tp}')\n",
        "print(f'False Positives: {fp}')\n",
        "print(f'True Negatives: {tn}')\n",
        "print(f'False Negatives: {fn}')"
      ],
      "execution_count": null,
      "outputs": [
        {
          "output_type": "stream",
          "text": [
            "True Positives: 62\n",
            "False Positives: 8\n",
            "True Negatives: 73\n",
            "False Negatives: 18\n"
          ],
          "name": "stdout"
        }
      ]
    },
    {
      "cell_type": "code",
      "metadata": {
        "id": "Uj3tseQsveee"
      },
      "source": [
        "from sklearn.metrics import roc_auc_score\n",
        "from sklearn.metrics import roc_curve\n",
        "import matplotlib.pyplot as plt\n",
        "import seaborn as sns\n",
        "%matplotlib inline"
      ],
      "execution_count": null,
      "outputs": []
    },
    {
      "cell_type": "code",
      "metadata": {
        "id": "mA7nlpnyxJM-"
      },
      "source": [
        "probas = SVM_modelW2v.fit(X_train_w2v, y_train_w2v).predict_proba(X_test_w2v)"
      ],
      "execution_count": null,
      "outputs": []
    },
    {
      "cell_type": "code",
      "metadata": {
        "colab": {
          "base_uri": "https://localhost:8080/"
        },
        "id": "oJWvEQbx9LpZ",
        "outputId": "cd0cc78c-d4a2-4f96-834f-a0e3b8b506c7"
      },
      "source": [
        "auc = roc_auc_score(y_test_w2v, probas[:, 1])\n",
        "print('AUC: %.2f' % auc)"
      ],
      "execution_count": null,
      "outputs": [
        {
          "output_type": "stream",
          "text": [
            "AUC: 0.92\n"
          ],
          "name": "stdout"
        }
      ]
    },
    {
      "cell_type": "code",
      "metadata": {
        "id": "o3PFSBQs9bFN"
      },
      "source": [
        "fpr, tpr, thresholds = roc_curve(y_test_w2v, probas[:, 1])"
      ],
      "execution_count": null,
      "outputs": []
    },
    {
      "cell_type": "code",
      "metadata": {
        "colab": {
          "base_uri": "https://localhost:8080/",
          "height": 294
        },
        "id": "uTrSL33q7x0S",
        "outputId": "4e02a383-b989-4d5c-cc54-00e8b7528d15"
      },
      "source": [
        "def plot_roc_curve(fpr, tpr):\n",
        "    plt.plot(fpr, tpr, color='orange', label='ROC')\n",
        "    plt.plot([0, 1], [0, 1], color='darkblue', linestyle='--')\n",
        "    plt.xlabel('False Positive Rate')\n",
        "    plt.ylabel('True Positive Rate')\n",
        "    plt.title('Receiver Operating Characteristic (ROC) Curve')\n",
        "    plt.legend()\n",
        "    plt.show()\n",
        "\n",
        "plot_roc_curve(fpr, tpr)"
      ],
      "execution_count": null,
      "outputs": [
        {
          "output_type": "display_data",
          "data": {
            "image/png": "[encoded data removed]",
            "text/plain": [
              "<Figure size 432x288 with 1 Axes>"
            ]
          },
          "metadata": {
            "tags": [],
            "needs_background": "light"
          }
        }
      ]
    },
    {
      "cell_type": "code",
      "metadata": {
        "colab": {
          "base_uri": "https://localhost:8080/",
          "height": 317
        },
        "id": "eE6DfZR7jT5F",
        "outputId": "6e69d3c5-2aea-4a31-8f6d-e63965310830"
      },
      "source": [
        "from sklearn.neighbors import KNeighborsClassifier\n",
        "\n",
        "k_values = range(1,20,2)\n",
        "test_scores= []\n",
        "\n",
        "for k in k_values:\n",
        "    knn = KNeighborsClassifier(n_neighbors=k, weights=\"uniform\", p=2)\n",
        "    knn.fit(X_train_w2v,y_train_w2v)\n",
        "    y_pred = knn.predict(X_test_w2v)\n",
        "    test_scores.append(accuracy_score(y_test_w2v,y_pred))\n",
        "    \n",
        "optimal_k = plotHyperparameterScores(k_values,test_scores,\"accuracy\",\"K\")\n",
        "knn_model = KNeighborsClassifier(n_neighbors=optimal_k, weights=\"uniform\", p=2)\n",
        "knn_model.fit(X_train_w2v, y_train_w2v)\n",
        "\n",
        "y_predTrain= knn_model.predict(X_train_w2v)\n",
        "y_predTest = knn_model.predict(X_test_w2v)\n",
        "accTrain = accuracy_score(y_train_w2v, y_predTrain)\n",
        "accTest = accuracy_score(y_test_w2v, y_predTest)\n",
        "print(\"Final accuracy on train data:\",accTrain)\n",
        "print(\"Final accuracy on test data:\",accTest)"
      ],
      "execution_count": null,
      "outputs": [
        {
          "output_type": "display_data",
          "data": {
            "image/png": "[encoded data removed]",
            "text/plain": [
              "<Figure size 432x288 with 1 Axes>"
            ]
          },
          "metadata": {
            "tags": [],
            "needs_background": "light"
          }
        },
        {
          "output_type": "stream",
          "text": [
            "Best Score at K: 7\n",
            "Final accuracy on train data: 0.8375\n",
            "Final accuracy on test data: 0.8260869565217391\n"
          ],
          "name": "stdout"
        }
      ]
    },
    {
      "cell_type": "code",
      "metadata": {
        "colab": {
          "base_uri": "https://localhost:8080/"
        },
        "id": "YP3Gx3o_lui1",
        "outputId": "24be56ac-05d7-4e8e-ca5d-dc57a4292dbb"
      },
      "source": [
        "from sklearn.metrics import confusion_matrix\n",
        "print('Confusion matrix: ')\n",
        "confusion_matrix(y_test_w2v,y_predTest)"
      ],
      "execution_count": null,
      "outputs": [
        {
          "output_type": "stream",
          "text": [
            "Confusion matrix: \n"
          ],
          "name": "stdout"
        },
        {
          "output_type": "execute_result",
          "data": {
            "text/plain": [
              "array([[69, 12],\n",
              "       [16, 64]])"
            ]
          },
          "metadata": {
            "tags": []
          },
          "execution_count": 32
        }
      ]
    },
    {
      "cell_type": "code",
      "metadata": {
        "colab": {
          "base_uri": "https://localhost:8080/"
        },
        "id": "1CjcS1LHlu0_",
        "outputId": "81b7ebba-8ced-4c38-ce0a-6139912cce78"
      },
      "source": [
        "from sklearn.metrics import classification_report\n",
        "\n",
        "print(classification_report(y_test_w2v,y_predTest))"
      ],
      "execution_count": null,
      "outputs": [
        {
          "output_type": "stream",
          "text": [
            "              precision    recall  f1-score   support\n",
            "\n",
            "           0       0.81      0.85      0.83        81\n",
            "           1       0.84      0.80      0.82        80\n",
            "\n",
            "    accuracy                           0.83       161\n",
            "   macro avg       0.83      0.83      0.83       161\n",
            "weighted avg       0.83      0.83      0.83       161\n",
            "\n"
          ],
          "name": "stdout"
        }
      ]
    },
    {
      "cell_type": "code",
      "metadata": {
        "id": "j_0DwPZUmIfW"
      },
      "source": [
        "probas = knn_model.fit(X_train_w2v, y_train_w2v).predict_proba(X_test_w2v)"
      ],
      "execution_count": null,
      "outputs": []
    },
    {
      "cell_type": "code",
      "metadata": {
        "colab": {
          "base_uri": "https://localhost:8080/"
        },
        "id": "CCLJ8On_mIcT",
        "outputId": "4c14b580-b398-483f-a180-e2cad6a2800d"
      },
      "source": [
        "auc = roc_auc_score(y_test_w2v, probas[:, 1])\n",
        "print('AUC: %.2f' % auc)"
      ],
      "execution_count": null,
      "outputs": [
        {
          "output_type": "stream",
          "text": [
            "AUC: 0.87\n"
          ],
          "name": "stdout"
        }
      ]
    },
    {
      "cell_type": "code",
      "metadata": {
        "id": "OEoTH4qMmROj"
      },
      "source": [
        "fpr, tpr, thresholds = roc_curve(y_test_w2v, probas[:, 1])"
      ],
      "execution_count": null,
      "outputs": []
    },
    {
      "cell_type": "code",
      "metadata": {
        "colab": {
          "base_uri": "https://localhost:8080/",
          "height": 294
        },
        "id": "tREaur40mIZa",
        "outputId": "fa13985c-9837-41e1-c4ea-cfdd9aa0ef27"
      },
      "source": [
        "def plot_roc_curve(fpr, tpr):\n",
        "    plt.plot(fpr, tpr, color='orange', label='ROC')\n",
        "    plt.plot([0, 1], [0, 1], color='darkblue', linestyle='--')\n",
        "    plt.xlabel('False Positive Rate')\n",
        "    plt.ylabel('True Positive Rate')\n",
        "    plt.title('Receiver Operating Characteristic (ROC) Curve')\n",
        "    plt.legend()\n",
        "    plt.show()\n",
        "\n",
        "plot_roc_curve(fpr, tpr)"
      ],
      "execution_count": null,
      "outputs": [
        {
          "output_type": "display_data",
          "data": {
            "image/png": "[encoded data removed]",
            "text/plain": [
              "<Figure size 432x288 with 1 Axes>"
            ]
          },
          "metadata": {
            "tags": [],
            "needs_background": "light"
          }
        }
      ]
    },
    {
      "cell_type": "code",
      "metadata": {
        "id": "JoO6VCFzz4T0",
        "colab": {
          "base_uri": "https://localhost:8080/",
          "height": 197
        },
        "outputId": "ef95443e-c67c-4189-967b-3139670e8849"
      },
      "source": [
        "dt = pd.read_excel('/content/drive/My Drive/ml_data/test_v1.xlsx')\n",
        "#dt['hasilSVM'] = predictions_NB\n",
        "dt['hasilKNN'] = y_predTest\n",
        "dt.head()"
      ],
      "execution_count": null,
      "outputs": [
        {
          "output_type": "execute_result",
          "data": {
            "text/html": [
              "<div>\n",
              "<style scoped>\n",
              "    .dataframe tbody tr th:only-of-type {\n",
              "        vertical-align: middle;\n",
              "    }\n",
              "\n",
              "    .dataframe tbody tr th {\n",
              "        vertical-align: top;\n",
              "    }\n",
              "\n",
              "    .dataframe thead th {\n",
              "        text-align: right;\n",
              "    }\n",
              "</style>\n",
              "<table border=\"1\" class=\"dataframe\">\n",
              "  <thead>\n",
              "    <tr style=\"text-align: right;\">\n",
              "      <th></th>\n",
              "      <th>Tweet</th>\n",
              "      <th>Sentimen</th>\n",
              "      <th>hasilKNN</th>\n",
              "    </tr>\n",
              "  </thead>\n",
              "  <tbody>\n",
              "    <tr>\n",
              "      <th>0</th>\n",
              "      <td>Doaku semoga covid-19 segara beres, agar semua...</td>\n",
              "      <td>Positif</td>\n",
              "      <td>0</td>\n",
              "    </tr>\n",
              "    <tr>\n",
              "      <th>1</th>\n",
              "      <td>Makanya pemerintah perlu permudah akses untuk ...</td>\n",
              "      <td>Positif</td>\n",
              "      <td>0</td>\n",
              "    </tr>\n",
              "    <tr>\n",
              "      <th>2</th>\n",
              "      <td>Kemaren bapaku debat sama tetangga soal peratu...</td>\n",
              "      <td>Positif</td>\n",
              "      <td>0</td>\n",
              "    </tr>\n",
              "    <tr>\n",
              "      <th>3</th>\n",
              "      <td>Lagi mendukung upaya pemerintah menghadapi cov...</td>\n",
              "      <td>Positif</td>\n",
              "      <td>1</td>\n",
              "    </tr>\n",
              "    <tr>\n",
              "      <th>4</th>\n",
              "      <td>hidupnanindah,Semoga dengan berdirinya Rumkitl...</td>\n",
              "      <td>Positif</td>\n",
              "      <td>1</td>\n",
              "    </tr>\n",
              "  </tbody>\n",
              "</table>\n",
              "</div>"
            ],
            "text/plain": [
              "                                               Tweet Sentimen  hasilKNN\n",
              "0  Doaku semoga covid-19 segara beres, agar semua...  Positif         0\n",
              "1  Makanya pemerintah perlu permudah akses untuk ...  Positif         0\n",
              "2  Kemaren bapaku debat sama tetangga soal peratu...  Positif         0\n",
              "3  Lagi mendukung upaya pemerintah menghadapi cov...  Positif         1\n",
              "4  hidupnanindah,Semoga dengan berdirinya Rumkitl...  Positif         1"
            ]
          },
          "metadata": {
            "tags": []
          },
          "execution_count": 38
        }
      ]
    },
    {
      "cell_type": "code",
      "metadata": {
        "colab": {
          "base_uri": "https://localhost:8080/"
        },
        "id": "V8TY6xQf3NJw",
        "outputId": "62a7c911-88b2-4df2-d9fa-f8cb7d7524d8"
      },
      "source": [
        "dt.groupby('hasilKNN').size()"
      ],
      "execution_count": null,
      "outputs": [
        {
          "output_type": "execute_result",
          "data": {
            "text/plain": [
              "hasilKNN\n",
              "0    85\n",
              "1    76\n",
              "dtype: int64"
            ]
          },
          "metadata": {
            "tags": []
          },
          "execution_count": 39
        }
      ]
    },
    {
      "cell_type": "code",
      "metadata": {
        "colab": {
          "base_uri": "https://localhost:8080/",
          "height": 197
        },
        "id": "8GJx67wy3Z_K",
        "outputId": "d95d0554-9656-4a8a-d2cb-2837cee8660a"
      },
      "source": [
        "ds = pd.read_excel('/content/drive/My Drive/ml_data/test_v1.xlsx')\n",
        "ds['hasilSVM'] = y_predTest\n",
        "ds.head()"
      ],
      "execution_count": null,
      "outputs": [
        {
          "output_type": "execute_result",
          "data": {
            "text/html": [
              "<div>\n",
              "<style scoped>\n",
              "    .dataframe tbody tr th:only-of-type {\n",
              "        vertical-align: middle;\n",
              "    }\n",
              "\n",
              "    .dataframe tbody tr th {\n",
              "        vertical-align: top;\n",
              "    }\n",
              "\n",
              "    .dataframe thead th {\n",
              "        text-align: right;\n",
              "    }\n",
              "</style>\n",
              "<table border=\"1\" class=\"dataframe\">\n",
              "  <thead>\n",
              "    <tr style=\"text-align: right;\">\n",
              "      <th></th>\n",
              "      <th>Tweet</th>\n",
              "      <th>Sentimen</th>\n",
              "      <th>hasilSVM</th>\n",
              "    </tr>\n",
              "  </thead>\n",
              "  <tbody>\n",
              "    <tr>\n",
              "      <th>0</th>\n",
              "      <td>Doaku semoga covid-19 segara beres, agar semua...</td>\n",
              "      <td>Positif</td>\n",
              "      <td>0</td>\n",
              "    </tr>\n",
              "    <tr>\n",
              "      <th>1</th>\n",
              "      <td>Makanya pemerintah perlu permudah akses untuk ...</td>\n",
              "      <td>Positif</td>\n",
              "      <td>0</td>\n",
              "    </tr>\n",
              "    <tr>\n",
              "      <th>2</th>\n",
              "      <td>Kemaren bapaku debat sama tetangga soal peratu...</td>\n",
              "      <td>Positif</td>\n",
              "      <td>0</td>\n",
              "    </tr>\n",
              "    <tr>\n",
              "      <th>3</th>\n",
              "      <td>Lagi mendukung upaya pemerintah menghadapi cov...</td>\n",
              "      <td>Positif</td>\n",
              "      <td>1</td>\n",
              "    </tr>\n",
              "    <tr>\n",
              "      <th>4</th>\n",
              "      <td>hidupnanindah,Semoga dengan berdirinya Rumkitl...</td>\n",
              "      <td>Positif</td>\n",
              "      <td>1</td>\n",
              "    </tr>\n",
              "  </tbody>\n",
              "</table>\n",
              "</div>"
            ],
            "text/plain": [
              "                                               Tweet Sentimen  hasilSVM\n",
              "0  Doaku semoga covid-19 segara beres, agar semua...  Positif         0\n",
              "1  Makanya pemerintah perlu permudah akses untuk ...  Positif         0\n",
              "2  Kemaren bapaku debat sama tetangga soal peratu...  Positif         0\n",
              "3  Lagi mendukung upaya pemerintah menghadapi cov...  Positif         1\n",
              "4  hidupnanindah,Semoga dengan berdirinya Rumkitl...  Positif         1"
            ]
          },
          "metadata": {
            "tags": []
          },
          "execution_count": 40
        }
      ]
    },
    {
      "cell_type": "code",
      "metadata": {
        "colab": {
          "base_uri": "https://localhost:8080/"
        },
        "id": "gTt6YVyw3aQr",
        "outputId": "f8507a5a-6c47-48a4-c6e6-03a45018e521"
      },
      "source": [
        "ds.groupby('hasilSVM').size()"
      ],
      "execution_count": null,
      "outputs": [
        {
          "output_type": "execute_result",
          "data": {
            "text/plain": [
              "hasilSVM\n",
              "0    85\n",
              "1    76\n",
              "dtype: int64"
            ]
          },
          "metadata": {
            "tags": []
          },
          "execution_count": 41
        }
      ]
    },
    {
      "cell_type": "code",
      "metadata": {
        "colab": {
          "base_uri": "https://localhost:8080/",
          "height": 347
        },
        "id": "wL_JFN_I3ipE",
        "outputId": "0a7fdca2-6534-4bab-937f-56b577e2e431"
      },
      "source": [
        "dt['hasilSVM'] = y_predTest\n",
        "dt.head(10)"
      ],
      "execution_count": null,
      "outputs": [
        {
          "output_type": "execute_result",
          "data": {
            "text/html": [
              "<div>\n",
              "<style scoped>\n",
              "    .dataframe tbody tr th:only-of-type {\n",
              "        vertical-align: middle;\n",
              "    }\n",
              "\n",
              "    .dataframe tbody tr th {\n",
              "        vertical-align: top;\n",
              "    }\n",
              "\n",
              "    .dataframe thead th {\n",
              "        text-align: right;\n",
              "    }\n",
              "</style>\n",
              "<table border=\"1\" class=\"dataframe\">\n",
              "  <thead>\n",
              "    <tr style=\"text-align: right;\">\n",
              "      <th></th>\n",
              "      <th>Tweet</th>\n",
              "      <th>Sentimen</th>\n",
              "      <th>hasilKNN</th>\n",
              "      <th>hasilSVM</th>\n",
              "    </tr>\n",
              "  </thead>\n",
              "  <tbody>\n",
              "    <tr>\n",
              "      <th>0</th>\n",
              "      <td>Doaku semoga covid-19 segara beres, agar semua...</td>\n",
              "      <td>Positif</td>\n",
              "      <td>0</td>\n",
              "      <td>0</td>\n",
              "    </tr>\n",
              "    <tr>\n",
              "      <th>1</th>\n",
              "      <td>Makanya pemerintah perlu permudah akses untuk ...</td>\n",
              "      <td>Positif</td>\n",
              "      <td>0</td>\n",
              "      <td>0</td>\n",
              "    </tr>\n",
              "    <tr>\n",
              "      <th>2</th>\n",
              "      <td>Kemaren bapaku debat sama tetangga soal peratu...</td>\n",
              "      <td>Positif</td>\n",
              "      <td>0</td>\n",
              "      <td>0</td>\n",
              "    </tr>\n",
              "    <tr>\n",
              "      <th>3</th>\n",
              "      <td>Lagi mendukung upaya pemerintah menghadapi cov...</td>\n",
              "      <td>Positif</td>\n",
              "      <td>1</td>\n",
              "      <td>1</td>\n",
              "    </tr>\n",
              "    <tr>\n",
              "      <th>4</th>\n",
              "      <td>hidupnanindah,Semoga dengan berdirinya Rumkitl...</td>\n",
              "      <td>Positif</td>\n",
              "      <td>1</td>\n",
              "      <td>1</td>\n",
              "    </tr>\n",
              "    <tr>\n",
              "      <th>5</th>\n",
              "      <td>Meski mudik tetap dilarang, pemerintah kemungk...</td>\n",
              "      <td>Positif</td>\n",
              "      <td>0</td>\n",
              "      <td>0</td>\n",
              "    </tr>\n",
              "    <tr>\n",
              "      <th>6</th>\n",
              "      <td>Betuul. Tetap hidup sehat, ikuti protokol penc...</td>\n",
              "      <td>Positif</td>\n",
              "      <td>0</td>\n",
              "      <td>0</td>\n",
              "    </tr>\n",
              "    <tr>\n",
              "      <th>7</th>\n",
              "      <td>iar aja Gak turun...yg pentingnya duitnya ada....</td>\n",
              "      <td>Positif</td>\n",
              "      <td>0</td>\n",
              "      <td>0</td>\n",
              "    </tr>\n",
              "    <tr>\n",
              "      <th>8</th>\n",
              "      <td>Halo teman-teman. Penyebaran virus covid-19 se...</td>\n",
              "      <td>Positif</td>\n",
              "      <td>0</td>\n",
              "      <td>0</td>\n",
              "    </tr>\n",
              "    <tr>\n",
              "      <th>9</th>\n",
              "      <td>sma 11,ga coret2 og,cuman ttd temen2 sekelas t...</td>\n",
              "      <td>Positif</td>\n",
              "      <td>0</td>\n",
              "      <td>0</td>\n",
              "    </tr>\n",
              "  </tbody>\n",
              "</table>\n",
              "</div>"
            ],
            "text/plain": [
              "                                               Tweet  ... hasilSVM\n",
              "0  Doaku semoga covid-19 segara beres, agar semua...  ...        0\n",
              "1  Makanya pemerintah perlu permudah akses untuk ...  ...        0\n",
              "2  Kemaren bapaku debat sama tetangga soal peratu...  ...        0\n",
              "3  Lagi mendukung upaya pemerintah menghadapi cov...  ...        1\n",
              "4  hidupnanindah,Semoga dengan berdirinya Rumkitl...  ...        1\n",
              "5  Meski mudik tetap dilarang, pemerintah kemungk...  ...        0\n",
              "6  Betuul. Tetap hidup sehat, ikuti protokol penc...  ...        0\n",
              "7  iar aja Gak turun...yg pentingnya duitnya ada....  ...        0\n",
              "8  Halo teman-teman. Penyebaran virus covid-19 se...  ...        0\n",
              "9  sma 11,ga coret2 og,cuman ttd temen2 sekelas t...  ...        0\n",
              "\n",
              "[10 rows x 4 columns]"
            ]
          },
          "metadata": {
            "tags": []
          },
          "execution_count": 42
        }
      ]
    },
    {
      "cell_type": "code",
      "metadata": {
        "id": "yFsRIhXtvH4K",
        "colab": {
          "base_uri": "https://localhost:8080/"
        },
        "outputId": "041dbdd1-f28a-4d0b-80d4-33f367f07f0a"
      },
      "source": [
        "75"
      ],
      "execution_count": null,
      "outputs": [
        {
          "output_type": "execute_result",
          "data": {
            "text/plain": [
              "75"
            ]
          },
          "metadata": {
            "tags": []
          },
          "execution_count": 43
        }
      ]
    },
    {
      "cell_type": "code",
      "metadata": {
        "id": "u0ypKTsjy_lK",
        "colab": {
          "base_uri": "https://localhost:8080/"
        },
        "outputId": "25ee78da-f165-4c4d-fc4c-02d5fe24bb28"
      },
      "source": [
        "from sklearn.model_selection import KFold\n",
        "kf=KFold(n_splits=5, shuffle=False)\n",
        "print(kf)  #buat tau Kfold dan parameter defaultnya\n",
        "i=1        #ini gapenting, cuma buat nandain fold nya."
      ],
      "execution_count": null,
      "outputs": [
        {
          "output_type": "stream",
          "text": [
            "KFold(n_splits=5, random_state=None, shuffle=False)\n"
          ],
          "name": "stdout"
        }
      ]
    },
    {
      "cell_type": "code",
      "metadata": {
        "colab": {
          "base_uri": "https://localhost:8080/"
        },
        "id": "wMqVb6yDSZEC",
        "outputId": "46f76064-eaf0-460c-e5c0-edf61d93884d"
      },
      "source": [
        "from sklearn.linear_model import SGDClassifier\n",
        "from sklearn.model_selection import cross_val_score\n",
        "SVM = svm.SVC(C = C, kernel='linear', probability=True, degree=3, gamma='auto')\n",
        "score= cross_val_score(SVM, X_train_w2v, y_train_w2v, cv=10, scoring='accuracy') \n",
        "print(score)        \n",
        "print(score.mean())"
      ],
      "execution_count": null,
      "outputs": [
        {
          "output_type": "stream",
          "text": [
            "[0.8125   0.78125  0.921875 0.828125 0.796875 0.703125 0.71875  0.84375\n",
            " 0.78125  0.75    ]\n",
            "0.79375\n"
          ],
          "name": "stdout"
        }
      ]
    },
    {
      "cell_type": "code",
      "metadata": {
        "colab": {
          "base_uri": "https://localhost:8080/"
        },
        "id": "QM0emyZdSb7C",
        "outputId": "514b9620-8986-4c1b-fa01-54a16afee72e"
      },
      "source": [
        "from sklearn.model_selection import cross_val_score\n",
        "knn = KNeighborsClassifier(n_neighbors=k, weights=\"uniform\", p=2)\n",
        "score= cross_val_score(knn, X_train_w2v, y_train_w2v, cv=10, scoring='accuracy') \n",
        "print(score)        \n",
        "print(score.mean())"
      ],
      "execution_count": null,
      "outputs": [
        {
          "output_type": "stream",
          "text": [
            "[0.75     0.734375 0.84375  0.859375 0.765625 0.796875 0.78125  0.75\n",
            " 0.796875 0.75    ]\n",
            "0.7828125\n"
          ],
          "name": "stdout"
        }
      ]
    },
    {
      "cell_type": "code",
      "metadata": {
        "id": "gKAlnizWTNIi"
      },
      "source": [
        ""
      ],
      "execution_count": null,
      "outputs": []
    }
  ]
}