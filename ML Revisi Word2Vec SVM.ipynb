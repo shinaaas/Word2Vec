{
  "nbformat": 4,
  "nbformat_minor": 0,
  "metadata": {
    "colab": {
      "name": "ML_Revisi_SVM_Fix.ipynb",
      "provenance": [],
      "collapsed_sections": []
    },
    "kernelspec": {
      "display_name": "Python 3",
      "name": "python3"
    },
    "language_info": {
      "name": "python"
    }
  },
  "cells": [
    {
      "cell_type": "code",
      "metadata": {
        "colab": {
          "base_uri": "https://localhost:8080/"
        },
        "id": "2SesMmKu1HdM",
        "outputId": "38a22d6a-b1bb-4e91-9afe-686a7f5763d0"
      },
      "source": [
        "from google.colab import drive\n",
        "drive.mount('/content/drive') #akses ke google drive"
      ],
      "execution_count": null,
      "outputs": [
        {
          "output_type": "stream",
          "text": [
            "Mounted at /content/drive\n"
          ],
          "name": "stdout"
        }
      ]
    },
    {
      "cell_type": "code",
      "metadata": {
        "colab": {
          "base_uri": "https://localhost:8080/"
        },
        "id": "mboakD5G13Gy",
        "outputId": "5597a9a4-3892-4fb9-ddfe-e31e5a2f06dc"
      },
      "source": [
        "pip install nltk"
      ],
      "execution_count": null,
      "outputs": [
        {
          "output_type": "stream",
          "text": [
            "Requirement already satisfied: nltk in /usr/local/lib/python3.7/dist-packages (3.2.5)\n",
            "Requirement already satisfied: six in /usr/local/lib/python3.7/dist-packages (from nltk) (1.15.0)\n"
          ],
          "name": "stdout"
        }
      ]
    },
    {
      "cell_type": "code",
      "metadata": {
        "colab": {
          "base_uri": "https://localhost:8080/"
        },
        "id": "hqW-QLIf3kj5",
        "outputId": "443cac95-281a-42cc-d4c0-840e5e3601c8"
      },
      "source": [
        "pip install Sastrawi"
      ],
      "execution_count": null,
      "outputs": [
        {
          "output_type": "stream",
          "text": [
            "Collecting Sastrawi\n",
            "\u001b[?25l  Downloading https://files.pythonhosted.org/packages/6f/4b/bab676953da3103003730b8fcdfadbdd20f333d4add10af949dd5c51e6ed/Sastrawi-1.0.1-py2.py3-none-any.whl (209kB)\n",
            "\r\u001b[K     |█▋                              | 10kB 15.3MB/s eta 0:00:01\r\u001b[K     |███▏                            | 20kB 19.8MB/s eta 0:00:01\r\u001b[K     |████▊                           | 30kB 22.4MB/s eta 0:00:01\r\u001b[K     |██████▎                         | 40kB 25.2MB/s eta 0:00:01\r\u001b[K     |███████▉                        | 51kB 27.9MB/s eta 0:00:01\r\u001b[K     |█████████▍                      | 61kB 29.2MB/s eta 0:00:01\r\u001b[K     |███████████                     | 71kB 30.0MB/s eta 0:00:01\r\u001b[K     |████████████▌                   | 81kB 30.1MB/s eta 0:00:01\r\u001b[K     |██████████████                  | 92kB 30.8MB/s eta 0:00:01\r\u001b[K     |███████████████▋                | 102kB 30.7MB/s eta 0:00:01\r\u001b[K     |█████████████████▏              | 112kB 30.7MB/s eta 0:00:01\r\u001b[K     |██████████████████▊             | 122kB 30.7MB/s eta 0:00:01\r\u001b[K     |████████████████████▎           | 133kB 30.7MB/s eta 0:00:01\r\u001b[K     |█████████████████████▉          | 143kB 30.7MB/s eta 0:00:01\r\u001b[K     |███████████████████████▍        | 153kB 30.7MB/s eta 0:00:01\r\u001b[K     |█████████████████████████       | 163kB 30.7MB/s eta 0:00:01\r\u001b[K     |██████████████████████████▋     | 174kB 30.7MB/s eta 0:00:01\r\u001b[K     |████████████████████████████▏   | 184kB 30.7MB/s eta 0:00:01\r\u001b[K     |█████████████████████████████▊  | 194kB 30.7MB/s eta 0:00:01\r\u001b[K     |███████████████████████████████▎| 204kB 30.7MB/s eta 0:00:01\r\u001b[K     |████████████████████████████████| 215kB 30.7MB/s \n",
            "\u001b[?25hInstalling collected packages: Sastrawi\n",
            "Successfully installed Sastrawi-1.0.1\n"
          ],
          "name": "stdout"
        }
      ]
    },
    {
      "cell_type": "code",
      "metadata": {
        "colab": {
          "base_uri": "https://localhost:8080/"
        },
        "id": "CJ3YK-T03mnB",
        "outputId": "55688828-fcd5-49a8-eeea-8e37f4340f93"
      },
      "source": [
        "import pandas as pd\n",
        "import numpy as np\n",
        "import matplotlib.pyplot as plt\n",
        "\n",
        "#Train Data\n",
        "df =  pd.read_excel('/content/drive/My Drive/ml_data/data_fix.xlsx')\n",
        "print(\"Data shape:\",df.shape)\n",
        "\n",
        "NegatifDf = df[df[\"Sentimen\"]==\"Negatif\"].drop(\"Sentimen\",axis=1)\n",
        "NegatifDf[\"Sentimen\"] = 0\n",
        "\n",
        "PositifDf = df[df[\"Sentimen\"]==\"Positif\"].drop(\"Sentimen\",axis=1)\n",
        "PositifDf[\"Sentimen\"] = 1\n",
        "\n",
        "df = pd.concat([NegatifDf,PositifDf],ignore_index=True)\n",
        "print(\"Final total dataset:\",df.shape)"
      ],
      "execution_count": null,
      "outputs": [
        {
          "output_type": "stream",
          "text": [
            "Data shape: (801, 2)\n",
            "Final total dataset: (801, 2)\n"
          ],
          "name": "stdout"
        }
      ]
    },
    {
      "cell_type": "code",
      "metadata": {
        "colab": {
          "base_uri": "https://localhost:8080/",
          "height": 204
        },
        "id": "21diZWGx4cjb",
        "outputId": "01242698-b432-459c-8b6f-7159fdcb3e44"
      },
      "source": [
        "df.head()"
      ],
      "execution_count": null,
      "outputs": [
        {
          "output_type": "execute_result",
          "data": {
            "text/html": [
              "<div>\n",
              "<style scoped>\n",
              "    .dataframe tbody tr th:only-of-type {\n",
              "        vertical-align: middle;\n",
              "    }\n",
              "\n",
              "    .dataframe tbody tr th {\n",
              "        vertical-align: top;\n",
              "    }\n",
              "\n",
              "    .dataframe thead th {\n",
              "        text-align: right;\n",
              "    }\n",
              "</style>\n",
              "<table border=\"1\" class=\"dataframe\">\n",
              "  <thead>\n",
              "    <tr style=\"text-align: right;\">\n",
              "      <th></th>\n",
              "      <th>Tweet</th>\n",
              "      <th>Sentimen</th>\n",
              "    </tr>\n",
              "  </thead>\n",
              "  <tbody>\n",
              "    <tr>\n",
              "      <th>0</th>\n",
              "      <td>Saya tergolong yg ga setuju sama cara pemerint...</td>\n",
              "      <td>0</td>\n",
              "    </tr>\n",
              "    <tr>\n",
              "      <th>1</th>\n",
              "      <td>Menurut saya Covid ada, tapi sepertinya elit g...</td>\n",
              "      <td>0</td>\n",
              "    </tr>\n",
              "    <tr>\n",
              "      <th>2</th>\n",
              "      <td>Yups,, egois demi materi... krn RS yg dapat pa...</td>\n",
              "      <td>0</td>\n",
              "    </tr>\n",
              "    <tr>\n",
              "      <th>3</th>\n",
              "      <td>Klo kata gw Pemerintah tuh lagi menerapkan Her...</td>\n",
              "      <td>0</td>\n",
              "    </tr>\n",
              "    <tr>\n",
              "      <th>4</th>\n",
              "      <td>Masih bilang beruntung, ribuan warga mati &amp; ba...</td>\n",
              "      <td>0</td>\n",
              "    </tr>\n",
              "  </tbody>\n",
              "</table>\n",
              "</div>"
            ],
            "text/plain": [
              "                                               Tweet  Sentimen\n",
              "0  Saya tergolong yg ga setuju sama cara pemerint...         0\n",
              "1  Menurut saya Covid ada, tapi sepertinya elit g...         0\n",
              "2  Yups,, egois demi materi... krn RS yg dapat pa...         0\n",
              "3  Klo kata gw Pemerintah tuh lagi menerapkan Her...         0\n",
              "4  Masih bilang beruntung, ribuan warga mati & ba...         0"
            ]
          },
          "metadata": {
            "tags": []
          },
          "execution_count": 5
        }
      ]
    },
    {
      "cell_type": "code",
      "metadata": {
        "colab": {
          "base_uri": "https://localhost:8080/"
        },
        "id": "q8u4FXe65fge",
        "outputId": "87e6c875-ea4c-4cf1-c546-a37de0539a67"
      },
      "source": [
        "import re\n",
        "import nltk\n",
        "from nltk.corpus import stopwords\n",
        "nltk.download(\"stopwords\")\n",
        "from Sastrawi.Stemmer.StemmerFactory import StemmerFactory"
      ],
      "execution_count": null,
      "outputs": [
        {
          "output_type": "stream",
          "text": [
            "[nltk_data] Downloading package stopwords to /root/nltk_data...\n",
            "[nltk_data]   Unzipping corpora/stopwords.zip.\n"
          ],
          "name": "stdout"
        }
      ]
    },
    {
      "cell_type": "code",
      "metadata": {
        "colab": {
          "base_uri": "https://localhost:8080/"
        },
        "id": "WGpqcf9W5ksR",
        "outputId": "3266c664-5549-4a51-b6d9-172f8d195d11"
      },
      "source": [
        "stop=set(stopwords.words(\"indonesian\"))\n",
        "stop_bow = set(stopwords.words(\"indonesian\"))\n",
        "stop_bow.discard(\"tidak\")\n",
        "factory = StemmerFactory()\n",
        "stemmer = factory.create_stemmer()\n",
        "\n",
        "text=df[\"Tweet\"]\n",
        "cleaned_text_bow=[]\n",
        "cleaned_text=[]\n",
        "for line in text:\n",
        "    tags = re.compile(\"^@[a-zA-Z_]*\")\n",
        "    line = re.sub(tags,\" \",line)\n",
        "    hashtags = re.compile(\"#|\\*\")\n",
        "    extraCharacters = re.compile(\"[^a-zA-Z]\")\n",
        "    line = re.sub(extraCharacters,\" \",line)\n",
        "\n",
        "    filtered_words=[]\n",
        "    filtered_words_bow=\"\"\n",
        "    for word in line.split():\n",
        "        word=word.lower()\n",
        "        if(word not in stop):\n",
        "            word = stemmer.stem(word)\n",
        "            filtered_words.append(word)\n",
        "        if(word not in stop_bow):\n",
        "            word = stemmer.stem(word)\n",
        "            filtered_words_bow+=\" \"+word\n",
        "    cleaned_text.append(filtered_words)\n",
        "    cleaned_text_bow.append(filtered_words_bow)\n",
        "            \n",
        "data_bow = pd.DataFrame(data=cleaned_text_bow,columns=[\"Tweet\"])\n",
        "data_bow[\"Sentimen\"] = df[\"Sentimen\"]\n",
        "df[\"Tweet\"]=cleaned_text\n",
        "print(df.head(10))\n",
        "print()\n",
        "print(data_bow.head(10))\n",
        "print()"
      ],
      "execution_count": null,
      "outputs": [
        {
          "output_type": "stream",
          "text": [
            "                                               Tweet  Sentimen\n",
            "0  [golong, yg, ga, tuju, perintah, tangan, covid...         0\n",
            "1  [covid, elit, global, main, perintah, masyarak...         0\n",
            "2  [yups, egois, materi, krn, rs, yg, pasien, cov...         0\n",
            "3  [klo, gw, perintah, tuh, terap, herd, immunity...         0\n",
            "4  [bilang, untung, ribu, warga, mati, daftar, ko...         0\n",
            "5                    [bahaya, covid, perintah, atas]         0\n",
            "6  [salah, keluarga, menit, tinggal, gara, gara, ...         0\n",
            "7  [bgmn, turun, masy, bnyk, yg, blm, sadar, peri...         0\n",
            "8    [perintah, sepele, covid, suruh, damai, dengan]         0\n",
            "9  [ga, damai, covid, rang, covid, protocol, seha...         0\n",
            "\n",
            "                                               Tweet  Sentimen\n",
            "0   golong yg ga tuju perintah tangan covid tp yg...         0\n",
            "1   covid elit global main perintah masyarakat re...         0\n",
            "2   yups egois materi krn rs yg pasien covid dpt ...         0\n",
            "3   klo gw perintah tuh terap herd immunity perin...         0\n",
            "4   bilang untung ribu warga mati daftar korban c...         0\n",
            "5                              bahaya covid perintah         0\n",
            "6   salah keluarga menit tinggal gara gara covid ...         0\n",
            "7   bgmn turun masy bnyk yg blm sadar perintah kr...         0\n",
            "8                  perintah sepele covid suruh damai         0\n",
            "9   ga damai covid rang covid protocol sehat who ...         0\n",
            "\n"
          ],
          "name": "stdout"
        }
      ]
    },
    {
      "cell_type": "code",
      "metadata": {
        "id": "NGWVwCJV6Cmk"
      },
      "source": [
        "import gensim\n",
        "from tqdm import tqdm\n",
        "from sklearn.preprocessing import StandardScaler"
      ],
      "execution_count": null,
      "outputs": []
    },
    {
      "cell_type": "code",
      "metadata": {
        "id": "HMviLC2T62bK"
      },
      "source": [
        "#Train on text data\n",
        "list_of_sent = df[\"Tweet\"]\n",
        "w2v_model=gensim.models.Word2Vec(list_of_sent,min_count=4,size=200, workers=4) #size = ukuran vector yg diinginkan, default cbow\n",
        "w2v_words=list(w2v_model.wv.vocab) #corpus/vocab ambil dr kata yg ada di data train "
      ],
      "execution_count": null,
      "outputs": []
    },
    {
      "cell_type": "code",
      "metadata": {
        "colab": {
          "base_uri": "https://localhost:8080/"
        },
        "id": "MVE0Xx-O65Dd",
        "outputId": "393ccc79-30da-43c7-cbe6-d260ea027ba9"
      },
      "source": [
        "len(w2v_words)"
      ],
      "execution_count": null,
      "outputs": [
        {
          "output_type": "execute_result",
          "data": {
            "text/plain": [
              "628"
            ]
          },
          "metadata": {
            "tags": []
          },
          "execution_count": 10
        }
      ]
    },
    {
      "cell_type": "code",
      "metadata": {
        "colab": {
          "base_uri": "https://localhost:8080/"
        },
        "id": "znmtiHN569xq",
        "outputId": "e32f3dbf-51f6-4d02-d500-4835cfa69a19"
      },
      "source": [
        "#Vectorize train text data\n",
        "listof_sent_vec=[]\n",
        "for sent in tqdm(list_of_sent): \n",
        "    sent_vec = np.zeros(200) \n",
        "    cnt_words =0; \n",
        "    for word in sent: \n",
        "        if word in w2v_words:\n",
        "            vec = w2v_model.wv[word]\n",
        "            sent_vec += vec\n",
        "            cnt_words += 1\n",
        "    if cnt_words != 0:\n",
        "        sent_vec /= cnt_words\n",
        "    listof_sent_vec.append(sent_vec)\n",
        "    \n",
        "Label = df[\"Sentimen\"]\n",
        "list_col=tuple(range(200))\n",
        "Scaler = StandardScaler()\n",
        "data_vec = Scaler.fit_transform(listof_sent_vec)\n",
        "W2v_data=pd.DataFrame(data=data_vec, columns=list_col)\n",
        "W2v_data[\"Sentimen\"] = Label\n",
        "print(W2v_data.head(10))\n",
        "print(W2v_data.shape)"
      ],
      "execution_count": null,
      "outputs": [
        {
          "output_type": "stream",
          "text": [
            "100%|██████████| 801/801 [00:00<00:00, 5962.76it/s]\n"
          ],
          "name": "stderr"
        },
        {
          "output_type": "stream",
          "text": [
            "          0         1         2  ...       198       199  Sentimen\n",
            "0 -0.328810  0.451197  0.321221  ...  0.385873 -0.391891         0\n",
            "1 -0.479761  0.422532  0.341892  ...  0.307157 -0.410719         0\n",
            "2  0.826173 -0.821553 -0.977794  ... -0.826719  0.831654         0\n",
            "3  0.824132 -0.866524 -0.846657  ... -0.821906  0.822232         0\n",
            "4  1.105620 -1.009281 -1.019453  ... -0.996044  1.037623         0\n",
            "5 -2.395636  2.287532  2.499524  ...  2.240229 -2.290654         0\n",
            "6 -0.020727  0.084161  0.106876  ...  0.022193 -0.044330         0\n",
            "7  0.697369 -0.608017 -0.676392  ... -0.681131  0.687687         0\n",
            "8 -0.694684  0.618592  0.709601  ...  0.647554 -0.640370         0\n",
            "9  0.196786 -0.226459 -0.282784  ... -0.262442  0.242836         0\n",
            "\n",
            "[10 rows x 201 columns]\n",
            "(801, 201)\n"
          ],
          "name": "stdout"
        }
      ]
    },
    {
      "cell_type": "code",
      "metadata": {
        "colab": {
          "base_uri": "https://localhost:8080/"
        },
        "id": "bF_VOP277Luu",
        "outputId": "1b486bbc-9b81-4fb1-f80d-fb02606dfd70"
      },
      "source": [
        "X = W2v_data.drop(\"Sentimen\",axis=1).to_numpy()\n",
        "X"
      ],
      "execution_count": null,
      "outputs": [
        {
          "output_type": "execute_result",
          "data": {
            "text/plain": [
              "array([[-0.3288095 ,  0.45119742,  0.32122126, ..., -0.3793533 ,\n",
              "         0.38587329, -0.39189107],\n",
              "       [-0.47976119,  0.42253236,  0.34189192, ..., -0.39062349,\n",
              "         0.30715738, -0.41071919],\n",
              "       [ 0.82617298, -0.82155322, -0.9777943 , ...,  0.81883289,\n",
              "        -0.82671885,  0.83165388],\n",
              "       ...,\n",
              "       [-0.93134891,  1.0116084 ,  0.689677  , ..., -0.98732555,\n",
              "         1.01467589, -1.00686509],\n",
              "       [ 1.04422907, -1.15277306, -1.05456428, ...,  1.09812161,\n",
              "        -1.10226103,  1.08437107],\n",
              "       [-0.4227972 ,  0.4835249 ,  0.37092194, ..., -0.47867185,\n",
              "         0.48012208, -0.45717133]])"
            ]
          },
          "metadata": {
            "tags": []
          },
          "execution_count": 12
        }
      ]
    },
    {
      "cell_type": "code",
      "metadata": {
        "colab": {
          "base_uri": "https://localhost:8080/"
        },
        "id": "7tEm-fwb7ZIL",
        "outputId": "76a52b16-f1c2-4663-bc08-756db070eab8"
      },
      "source": [
        "y = W2v_data[\"Sentimen\"].to_numpy()\n",
        "y[0:5]"
      ],
      "execution_count": null,
      "outputs": [
        {
          "output_type": "execute_result",
          "data": {
            "text/plain": [
              "array([0, 0, 0, 0, 0])"
            ]
          },
          "metadata": {
            "tags": []
          },
          "execution_count": 13
        }
      ]
    },
    {
      "cell_type": "code",
      "metadata": {
        "id": "r7cNS-xg7d-P"
      },
      "source": [
        "from sklearn import model_selection, svm\n",
        "from sklearn.model_selection import KFold\n",
        "from sklearn.metrics import accuracy_score\n",
        "from sklearn.metrics import precision_score\n",
        "from sklearn.metrics import recall_score\n",
        "from sklearn.metrics import confusion_matrix\n",
        "from scipy.sparse import csr_matrix as matrixTransform"
      ],
      "execution_count": null,
      "outputs": []
    },
    {
      "cell_type": "code",
      "metadata": {
        "id": "6upwsjbU7vmt"
      },
      "source": [
        "class myClass:\n",
        "    def __init__(self):\n",
        "        self.recall = 0\n",
        "        self.acc = 0\n",
        "        self.pres = 0\n",
        "    def getRecall(self):\n",
        "        return self.recall\n",
        "    def getPres(self):\n",
        "        return self.pres\n",
        "    def setRecall(self, recall):\n",
        "        self.recall = recall\n",
        "    def setPres(self, pres):\n",
        "        self.pres = pres"
      ],
      "execution_count": null,
      "outputs": []
    },
    {
      "cell_type": "code",
      "metadata": {
        "id": "WD00Ptiz7ybS"
      },
      "source": [
        "def classify2():\n",
        "\n",
        "    SVM = svm.SVC(C=1, kernel='linear', probability=True)\n",
        "    SVM.fit(Train_X_final, y_train)\n",
        "    predictions_SVM = SVM.predict(Test_X_final)\n",
        "\n",
        "    acc = accuracy_score(predictions_SVM, y_test)\n",
        "    CM = confusion_matrix(y_test, predictions_SVM)\n",
        "    TN = CM[0][0]\n",
        "    FN = CM[1][0]\n",
        "    TP = CM[1][1]\n",
        "    FP = CM[0][1]\n",
        "    try :\n",
        "        pres = TP/(TP+FP)\n",
        "    except :\n",
        "        pres = 0  \n",
        "    accu = (TP+TN)/(TP+FP+TN+FN)\n",
        "    recall = TP/(TP+FN)\n",
        "\n",
        "    acc = accuracy_score(y_test, predictions_SVM)\n",
        "    recll = recall_score(y_test, predictions_SVM)\n",
        "    prec = precision_score(y_test, predictions_SVM)\n",
        "    \n",
        "    obj.setRecall(recall)\n",
        "    obj.setPres(pres)\n",
        "    \n",
        "    print(\"Confusion Matrix\")\n",
        "    print(CM)\n",
        "    return accu"
      ],
      "execution_count": null,
      "outputs": []
    },
    {
      "cell_type": "code",
      "metadata": {
        "colab": {
          "base_uri": "https://localhost:8080/"
        },
        "id": "E3cCDVId76ZB",
        "outputId": "70cc7af3-566d-4e43-b35c-8f78b4e5ea97"
      },
      "source": [
        "obj = myClass()\n",
        "acc_scores = []\n",
        "presisi_scores = []\n",
        "recall_scores = []\n",
        "cv = KFold(n_splits=10, random_state=32, shuffle=True)\n",
        "for train_index, test_index in cv.split(X):\n",
        "    X_train, X_test, y_train, y_test = X[train_index], X[test_index], y[train_index], y[test_index]\n",
        "\n",
        "    Test_X_final = matrixTransform(X_test)\n",
        "    Train_X_final = matrixTransform(X_train)    \n",
        "    print(\"Data Train :\", len(X_train))\n",
        "    print(\"Data Test :\", len(X_test))\n",
        "\n",
        "    acc= classify2()\n",
        "    acc_scores.append(acc)\n",
        "    presisi_scores.append(obj.getPres())\n",
        "    recall_scores.append(obj.getRecall())"
      ],
      "execution_count": null,
      "outputs": [
        {
          "output_type": "stream",
          "text": [
            "Data Train : 720\n",
            "Data Test : 81\n",
            "Confusion Matrix\n",
            "[[36  9]\n",
            " [ 5 31]]\n",
            "Data Train : 721\n",
            "Data Test : 80\n",
            "Confusion Matrix\n",
            "[[37  6]\n",
            " [ 2 35]]\n",
            "Data Train : 721\n",
            "Data Test : 80\n",
            "Confusion Matrix\n",
            "[[32  9]\n",
            " [ 6 33]]\n",
            "Data Train : 721\n",
            "Data Test : 80\n",
            "Confusion Matrix\n",
            "[[23  7]\n",
            " [13 37]]\n",
            "Data Train : 721\n",
            "Data Test : 80\n",
            "Confusion Matrix\n",
            "[[35  6]\n",
            " [ 7 32]]\n",
            "Data Train : 721\n",
            "Data Test : 80\n",
            "Confusion Matrix\n",
            "[[31  4]\n",
            " [10 35]]\n",
            "Data Train : 721\n",
            "Data Test : 80\n",
            "Confusion Matrix\n",
            "[[34  7]\n",
            " [ 6 33]]\n",
            "Data Train : 721\n",
            "Data Test : 80\n",
            "Confusion Matrix\n",
            "[[29 11]\n",
            " [ 8 32]]\n",
            "Data Train : 721\n",
            "Data Test : 80\n",
            "Confusion Matrix\n",
            "[[36  8]\n",
            " [ 6 30]]\n",
            "Data Train : 721\n",
            "Data Test : 80\n",
            "Confusion Matrix\n",
            "[[33  8]\n",
            " [ 7 32]]\n"
          ],
          "name": "stdout"
        }
      ]
    },
    {
      "cell_type": "code",
      "metadata": {
        "colab": {
          "base_uri": "https://localhost:8080/"
        },
        "id": "1hJHgypX8CDL",
        "outputId": "189855b9-17e8-4457-a0b2-9bbdbacb7551"
      },
      "source": [
        "print(\"Pengujian dengan SVM...\")\n",
        "print(\"Accuracy :\", acc_scores)\n",
        "print(\"Presisi :\", presisi_scores)\n",
        "print(\"Recall :\", recall_scores)\n",
        "print(\"Accuracy Average :\", np.mean(acc_scores))\n",
        "print(\"Presisi Average :\", np.mean(presisi_scores)) \n",
        "print(\"Recall Average :\", np.mean(recall_scores))"
      ],
      "execution_count": null,
      "outputs": [
        {
          "output_type": "stream",
          "text": [
            "Pengujian dengan SVM...\n",
            "Accuracy : [0.8271604938271605, 0.9, 0.8125, 0.75, 0.8375, 0.825, 0.8375, 0.7625, 0.825, 0.8125]\n",
            "Presisi : [0.775, 0.8536585365853658, 0.7857142857142857, 0.8409090909090909, 0.8421052631578947, 0.8974358974358975, 0.825, 0.7441860465116279, 0.7894736842105263, 0.8]\n",
            "Recall : [0.8611111111111112, 0.9459459459459459, 0.8461538461538461, 0.74, 0.8205128205128205, 0.7777777777777778, 0.8461538461538461, 0.8, 0.8333333333333334, 0.8205128205128205]\n",
            "Accuracy Average : 0.8189660493827162\n",
            "Presisi Average : 0.8153482804524689\n",
            "Recall Average : 0.8291501501501501\n"
          ],
          "name": "stdout"
        }
      ]
    },
    {
      "cell_type": "code",
      "metadata": {
        "id": "37Z6zjG9TIIH"
      },
      "source": [
        "SVM = svm.SVC(C=1, kernel='linear', probability=True)\n",
        "cv = StratifiedKFold(n_splits=10,shuffle=False)"
      ],
      "execution_count": null,
      "outputs": []
    },
    {
      "cell_type": "code",
      "metadata": {
        "colab": {
          "base_uri": "https://localhost:8080/",
          "height": 703
        },
        "id": "ntIgOFcHRgCN",
        "outputId": "06654186-3a21-42b3-e610-0f0758bb42eb"
      },
      "source": [
        "import matplotlib.pylab as plt\n",
        "from scipy import interp\n",
        "from sklearn import model_selection\n",
        "from sklearn.metrics import roc_curve,auc\n",
        "from sklearn.model_selection import StratifiedKFold\n",
        "import matplotlib.patches as patches\n",
        "\n",
        "fig1 = plt.figure(figsize=[8,8])\n",
        "ax1 = fig1.add_subplot(111,aspect = 'equal')\n",
        "#ax1.add_patch(\n",
        "#    patches.Arrow(0.45,0.5,-0.25,0.25,width=0.3,color='green',alpha = 0.5)\n",
        "#    )\n",
        "#ax1.add_patch(\n",
        "#    patches.Arrow(0.5,0.45,0.25,-0.25,width=0.3,color='red',alpha = 0.5)\n",
        "#    )\n",
        "\n",
        "tprs = []\n",
        "aucs = []\n",
        "mean_fpr = np.linspace(0,1,100)\n",
        "i = 1\n",
        "for train,test in cv.split(X,y):\n",
        "    prediction = SVM.fit(X[train],y[train]).predict_proba(X[test])\n",
        "    fpr, tpr, t = roc_curve(y[test], prediction[:, 1])\n",
        "    tprs.append(interp(mean_fpr, fpr, tpr))\n",
        "    roc_auc = auc(fpr, tpr)\n",
        "    aucs.append(roc_auc)\n",
        "    plt.plot(fpr, tpr, lw=2, alpha=0.3, label='ROC fold %d (AUC = %0.2f)' % (i, roc_auc))\n",
        "    i= i+1\n",
        "\n",
        "plt.plot([0,1],[0,1],linestyle = '--',lw = 2,color = 'black')\n",
        "mean_tpr = np.mean(tprs, axis=0)\n",
        "mean_auc = auc(mean_fpr, mean_tpr)\n",
        "plt.plot(mean_fpr, mean_tpr, color='blue',\n",
        "         label=r'Mean ROC (AUC = %0.2f )' % (mean_auc),lw=2, alpha=1)\n",
        "\n",
        "plt.xlabel('False Positive Rate')\n",
        "plt.ylabel('True Positive Rate')\n",
        "plt.title('ROC')\n",
        "plt.legend(loc=\"lower right\")\n",
        "#plt.text(0.32,0.7,'More accurate area',fontsize = 12)\n",
        "#plt.text(0.63,0.4,'Less accurate area',fontsize = 12)\n",
        "plt.show()"
      ],
      "execution_count": null,
      "outputs": [
        {
          "output_type": "stream",
          "text": [
            "/usr/local/lib/python3.7/dist-packages/ipykernel_launcher.py:24: DeprecationWarning: scipy.interp is deprecated and will be removed in SciPy 2.0.0, use numpy.interp instead\n",
            "/usr/local/lib/python3.7/dist-packages/ipykernel_launcher.py:24: DeprecationWarning: scipy.interp is deprecated and will be removed in SciPy 2.0.0, use numpy.interp instead\n",
            "/usr/local/lib/python3.7/dist-packages/ipykernel_launcher.py:24: DeprecationWarning: scipy.interp is deprecated and will be removed in SciPy 2.0.0, use numpy.interp instead\n",
            "/usr/local/lib/python3.7/dist-packages/ipykernel_launcher.py:24: DeprecationWarning: scipy.interp is deprecated and will be removed in SciPy 2.0.0, use numpy.interp instead\n",
            "/usr/local/lib/python3.7/dist-packages/ipykernel_launcher.py:24: DeprecationWarning: scipy.interp is deprecated and will be removed in SciPy 2.0.0, use numpy.interp instead\n",
            "/usr/local/lib/python3.7/dist-packages/ipykernel_launcher.py:24: DeprecationWarning: scipy.interp is deprecated and will be removed in SciPy 2.0.0, use numpy.interp instead\n",
            "/usr/local/lib/python3.7/dist-packages/ipykernel_launcher.py:24: DeprecationWarning: scipy.interp is deprecated and will be removed in SciPy 2.0.0, use numpy.interp instead\n",
            "/usr/local/lib/python3.7/dist-packages/ipykernel_launcher.py:24: DeprecationWarning: scipy.interp is deprecated and will be removed in SciPy 2.0.0, use numpy.interp instead\n",
            "/usr/local/lib/python3.7/dist-packages/ipykernel_launcher.py:24: DeprecationWarning: scipy.interp is deprecated and will be removed in SciPy 2.0.0, use numpy.interp instead\n",
            "/usr/local/lib/python3.7/dist-packages/ipykernel_launcher.py:24: DeprecationWarning: scipy.interp is deprecated and will be removed in SciPy 2.0.0, use numpy.interp instead\n"
          ],
          "name": "stderr"
        },
        {
          "output_type": "display_data",
          "data": {
            "image/png": "[encoded data removed]",
            "text/plain": [
              "<Figure size 576x576 with 1 Axes>"
            ]
          },
          "metadata": {
            "tags": [],
            "needs_background": "light"
          }
        }
      ]
    },
    {
      "cell_type": "code",
      "metadata": {
        "id": "UR9IkwMY8JsJ"
      },
      "source": [
        "from sklearn.neighbors import KNeighborsClassifier\n",
        "def classify3():\n",
        "\n",
        "    knn = KNeighborsClassifier(n_neighbors=7, weights=\"distance\", p=2)\n",
        "    knn.fit(Train_X_final, y_train)\n",
        "    predictions_KNN = knn.predict(Test_X_final)\n",
        "\n",
        "    acc = accuracy_score(predictions_KNN, y_test)\n",
        "    CM = confusion_matrix(y_test, predictions_KNN)\n",
        "    TN = CM[0][0]\n",
        "    FN = CM[1][0]\n",
        "    TP = CM[1][1]\n",
        "    FP = CM[0][1]\n",
        "    try :\n",
        "        pres = TP/(TP+FP)\n",
        "    except :\n",
        "        pres = 0  \n",
        "    accu = (TP+TN)/(TP+FP+TN+FN)\n",
        "    recall = TP/(TP+FN)\n",
        "\n",
        "    acc = accuracy_score(y_test, predictions_KNN)\n",
        "    recll = recall_score(y_test, predictions_KNN)\n",
        "    prec = precision_score(y_test, predictions_KNN)\n",
        "    \n",
        "    obj.setRecall(recall)\n",
        "    obj.setPres(pres)\n",
        "    \n",
        "    print(\"Confusion Matrix\")\n",
        "    print(CM)\n",
        "    return accu"
      ],
      "execution_count": null,
      "outputs": []
    },
    {
      "cell_type": "code",
      "metadata": {
        "id": "d_MEaP7K80Uw"
      },
      "source": [
        "obj = myClass()\n",
        "acc_scores = []\n",
        "presisi_scores = []\n",
        "recall_scores = []\n",
        "cv = KFold(n_splits=10, random_state=32, shuffle=True)\n",
        "for train_index, test_index in cv.split(X):\n",
        "    X_train, X_test, y_train, y_test = X[train_index], X[test_index], y[train_index], y[test_index]\n",
        "\n",
        "    Test_X_final = matrixTransform(X_test)\n",
        "    Train_X_final = matrixTransform(X_train)    \n",
        "    print(\"Data Train :\", len(X_train))\n",
        "    print(\"Data Test :\", len(X_test))\n",
        "\n",
        "    acc= classify3()\n",
        "    acc_scores.append(acc)\n",
        "    presisi_scores.append(obj.getPres())\n",
        "    recall_scores.append(obj.getRecall())"
      ],
      "execution_count": null,
      "outputs": []
    },
    {
      "cell_type": "code",
      "metadata": {
        "id": "1las_M7j84yi"
      },
      "source": [
        "print(\"Pengujian dengan KNN...\")\n",
        "print(\"Accuracy :\", acc_scores)\n",
        "print(\"Presisi :\", presisi_scores)\n",
        "print(\"Recall :\", recall_scores)\n",
        "print(\"Accuracy Average :\", np.mean(acc_scores))\n",
        "print(\"Presisi Average :\", np.mean(presisi_scores)) \n",
        "print(\"Recall Average :\", np.mean(recall_scores))"
      ],
      "execution_count": null,
      "outputs": []
    },
    {
      "cell_type": "code",
      "metadata": {
        "id": "e0Ur3xmI9BbN"
      },
      "source": [
        ""
      ],
      "execution_count": null,
      "outputs": []
    }
  ]
}