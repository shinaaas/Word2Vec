{
  "nbformat": 4,
  "nbformat_minor": 0,
  "metadata": {
    "colab": {
      "name": "ML Revisi - KNN Fix.ipynb",
      "provenance": [],
      "collapsed_sections": []
    },
    "kernelspec": {
      "display_name": "Python 3",
      "name": "python3"
    },
    "language_info": {
      "name": "python"
    }
  },
  "cells": [
    {
      "cell_type": "code",
      "metadata": {
        "colab": {
          "base_uri": "https://localhost:8080/"
        },
        "id": "2SesMmKu1HdM",
        "outputId": "ac0e310e-8b2e-4bf6-9b5a-2380e65239fc"
      },
      "source": [
        "from google.colab import drive\n",
        "drive.mount('/content/drive') #akses ke google drive"
      ],
      "execution_count": null,
      "outputs": [
        {
          "output_type": "stream",
          "text": [
            "Mounted at /content/drive\n"
          ],
          "name": "stdout"
        }
      ]
    },
    {
      "cell_type": "code",
      "metadata": {
        "id": "mboakD5G13Gy",
        "colab": {
          "base_uri": "https://localhost:8080/"
        },
        "outputId": "0f08a314-d15e-4a35-e9ac-97ab642e9071"
      },
      "source": [
        "pip install nltk"
      ],
      "execution_count": null,
      "outputs": [
        {
          "output_type": "stream",
          "text": [
            "Requirement already satisfied: nltk in /usr/local/lib/python3.7/dist-packages (3.2.5)\n",
            "Requirement already satisfied: six in /usr/local/lib/python3.7/dist-packages (from nltk) (1.15.0)\n"
          ],
          "name": "stdout"
        }
      ]
    },
    {
      "cell_type": "code",
      "metadata": {
        "id": "hqW-QLIf3kj5",
        "colab": {
          "base_uri": "https://localhost:8080/"
        },
        "outputId": "122ae5de-c5b7-4240-d8c3-1a11411cddcd"
      },
      "source": [
        "pip install Sastrawi"
      ],
      "execution_count": null,
      "outputs": [
        {
          "output_type": "stream",
          "text": [
            "Collecting Sastrawi\n",
            "\u001b[?25l  Downloading https://files.pythonhosted.org/packages/6f/4b/bab676953da3103003730b8fcdfadbdd20f333d4add10af949dd5c51e6ed/Sastrawi-1.0.1-py2.py3-none-any.whl (209kB)\n",
            "\r\u001b[K     |█▋                              | 10kB 14.7MB/s eta 0:00:01\r\u001b[K     |███▏                            | 20kB 9.5MB/s eta 0:00:01\r\u001b[K     |████▊                           | 30kB 5.9MB/s eta 0:00:01\r\u001b[K     |██████▎                         | 40kB 5.4MB/s eta 0:00:01\r\u001b[K     |███████▉                        | 51kB 2.9MB/s eta 0:00:01\r\u001b[K     |█████████▍                      | 61kB 3.3MB/s eta 0:00:01\r\u001b[K     |███████████                     | 71kB 3.5MB/s eta 0:00:01\r\u001b[K     |████████████▌                   | 81kB 3.7MB/s eta 0:00:01\r\u001b[K     |██████████████                  | 92kB 3.8MB/s eta 0:00:01\r\u001b[K     |███████████████▋                | 102kB 4.0MB/s eta 0:00:01\r\u001b[K     |█████████████████▏              | 112kB 4.0MB/s eta 0:00:01\r\u001b[K     |██████████████████▊             | 122kB 4.0MB/s eta 0:00:01\r\u001b[K     |████████████████████▎           | 133kB 4.0MB/s eta 0:00:01\r\u001b[K     |█████████████████████▉          | 143kB 4.0MB/s eta 0:00:01\r\u001b[K     |███████████████████████▍        | 153kB 4.0MB/s eta 0:00:01\r\u001b[K     |█████████████████████████       | 163kB 4.0MB/s eta 0:00:01\r\u001b[K     |██████████████████████████▋     | 174kB 4.0MB/s eta 0:00:01\r\u001b[K     |████████████████████████████▏   | 184kB 4.0MB/s eta 0:00:01\r\u001b[K     |█████████████████████████████▊  | 194kB 4.0MB/s eta 0:00:01\r\u001b[K     |███████████████████████████████▎| 204kB 4.0MB/s eta 0:00:01\r\u001b[K     |████████████████████████████████| 215kB 4.0MB/s \n",
            "\u001b[?25hInstalling collected packages: Sastrawi\n",
            "Successfully installed Sastrawi-1.0.1\n"
          ],
          "name": "stdout"
        }
      ]
    },
    {
      "cell_type": "code",
      "metadata": {
        "id": "CJ3YK-T03mnB",
        "colab": {
          "base_uri": "https://localhost:8080/"
        },
        "outputId": "a19a8a83-150d-4e91-beec-f699121cc1be"
      },
      "source": [
        "import pandas as pd\n",
        "import numpy as np\n",
        "import matplotlib.pyplot as plt\n",
        "\n",
        "#Train Data\n",
        "df =  pd.read_excel('/content/drive/My Drive/ml_data/data_3.xlsx')\n",
        "print(\"Data shape:\",df.shape)\n",
        "\n",
        "NegatifDf = df[df[\"Sentimen\"]==\"Negatif\"].drop(\"Sentimen\",axis=1)\n",
        "NegatifDf[\"Sentimen\"] = 0\n",
        "\n",
        "PositifDf = df[df[\"Sentimen\"]==\"Positif\"].drop(\"Sentimen\",axis=1)\n",
        "PositifDf[\"Sentimen\"] = 1\n",
        "\n",
        "df = pd.concat([NegatifDf,PositifDf],ignore_index=True)\n",
        "print(\"Final total dataset:\",df.shape)"
      ],
      "execution_count": null,
      "outputs": [
        {
          "output_type": "stream",
          "text": [
            "Data shape: (801, 2)\n",
            "Final total dataset: (801, 2)\n"
          ],
          "name": "stdout"
        }
      ]
    },
    {
      "cell_type": "code",
      "metadata": {
        "id": "21diZWGx4cjb",
        "colab": {
          "base_uri": "https://localhost:8080/",
          "height": 204
        },
        "outputId": "a615bf36-c1b5-474f-eff0-fcb83d05ebfb"
      },
      "source": [
        "df.head()"
      ],
      "execution_count": null,
      "outputs": [
        {
          "output_type": "execute_result",
          "data": {
            "text/html": [
              "<div>\n",
              "<style scoped>\n",
              "    .dataframe tbody tr th:only-of-type {\n",
              "        vertical-align: middle;\n",
              "    }\n",
              "\n",
              "    .dataframe tbody tr th {\n",
              "        vertical-align: top;\n",
              "    }\n",
              "\n",
              "    .dataframe thead th {\n",
              "        text-align: right;\n",
              "    }\n",
              "</style>\n",
              "<table border=\"1\" class=\"dataframe\">\n",
              "  <thead>\n",
              "    <tr style=\"text-align: right;\">\n",
              "      <th></th>\n",
              "      <th>Tweet</th>\n",
              "      <th>Sentimen</th>\n",
              "    </tr>\n",
              "  </thead>\n",
              "  <tbody>\n",
              "    <tr>\n",
              "      <th>0</th>\n",
              "      <td>Saya tergolong yang tidak setuju sama cara pem...</td>\n",
              "      <td>0</td>\n",
              "    </tr>\n",
              "    <tr>\n",
              "      <th>1</th>\n",
              "      <td>Menurut saya Covid ada, tapi sepertinya elit g...</td>\n",
              "      <td>0</td>\n",
              "    </tr>\n",
              "    <tr>\n",
              "      <th>2</th>\n",
              "      <td>ya egois demi materi... karena RS yang dapat p...</td>\n",
              "      <td>0</td>\n",
              "    </tr>\n",
              "    <tr>\n",
              "      <th>3</th>\n",
              "      <td>Kalau kata saya Pemerintah tuh lagi menerapkan...</td>\n",
              "      <td>0</td>\n",
              "    </tr>\n",
              "    <tr>\n",
              "      <th>4</th>\n",
              "      <td>Masih bilang beruntung, ribuan warga mati &amp; ba...</td>\n",
              "      <td>0</td>\n",
              "    </tr>\n",
              "  </tbody>\n",
              "</table>\n",
              "</div>"
            ],
            "text/plain": [
              "                                               Tweet  Sentimen\n",
              "0  Saya tergolong yang tidak setuju sama cara pem...         0\n",
              "1  Menurut saya Covid ada, tapi sepertinya elit g...         0\n",
              "2  ya egois demi materi... karena RS yang dapat p...         0\n",
              "3  Kalau kata saya Pemerintah tuh lagi menerapkan...         0\n",
              "4  Masih bilang beruntung, ribuan warga mati & ba...         0"
            ]
          },
          "metadata": {
            "tags": []
          },
          "execution_count": 41
        }
      ]
    },
    {
      "cell_type": "code",
      "metadata": {
        "id": "q8u4FXe65fge",
        "colab": {
          "base_uri": "https://localhost:8080/"
        },
        "outputId": "fa59c347-1e0e-4e57-eb3f-5530e01ff4fd"
      },
      "source": [
        "import re\n",
        "import nltk\n",
        "from nltk.corpus import stopwords\n",
        "nltk.download(\"stopwords\")\n",
        "from Sastrawi.Stemmer.StemmerFactory import StemmerFactory"
      ],
      "execution_count": null,
      "outputs": [
        {
          "output_type": "stream",
          "text": [
            "[nltk_data] Downloading package stopwords to /root/nltk_data...\n",
            "[nltk_data]   Package stopwords is already up-to-date!\n"
          ],
          "name": "stdout"
        }
      ]
    },
    {
      "cell_type": "code",
      "metadata": {
        "id": "WGpqcf9W5ksR",
        "colab": {
          "base_uri": "https://localhost:8080/"
        },
        "outputId": "0c463ee6-eae5-443a-99bf-9281293cb9d3"
      },
      "source": [
        "stop=set(stopwords.words(\"indonesian\"))\n",
        "stop_bow = set(stopwords.words(\"indonesian\"))\n",
        "stop_bow.discard(\"tidak\")\n",
        "factory = StemmerFactory()\n",
        "stemmer = factory.create_stemmer()\n",
        "\n",
        "text=df[\"Tweet\"]\n",
        "cleaned_text_bow=[]\n",
        "cleaned_text=[]\n",
        "for line in text:\n",
        "    tags = re.compile(\"^@[a-zA-Z_]*\")\n",
        "    line = re.sub(tags,\" \",line)\n",
        "    hashtags = re.compile(\"#|\\*\")\n",
        "    extraCharacters = re.compile(\"[^a-zA-Z]\")\n",
        "    line = re.sub(extraCharacters,\" \",line)\n",
        "\n",
        "    filtered_words=[]\n",
        "    filtered_words_bow=\"\"\n",
        "    for word in line.split():\n",
        "        word=word.lower()\n",
        "        if(word not in stop):\n",
        "            word = stemmer.stem(word)\n",
        "            filtered_words.append(word)\n",
        "        if(word not in stop_bow):\n",
        "            word = stemmer.stem(word)\n",
        "            filtered_words_bow+=\" \"+word\n",
        "    cleaned_text.append(filtered_words)\n",
        "    cleaned_text_bow.append(filtered_words_bow)\n",
        "            \n",
        "data_bow = pd.DataFrame(data=cleaned_text_bow,columns=[\"Tweet\"])\n",
        "data_bow[\"Sentimen\"] = df[\"Sentimen\"]\n",
        "df[\"Tweet\"]=cleaned_text\n",
        "print(df.head(10))\n",
        "print()\n",
        "print(data_bow.head(10))\n",
        "print()"
      ],
      "execution_count": null,
      "outputs": [
        {
          "output_type": "stream",
          "text": [
            "                                               Tweet  Sentimen\n",
            "0  [golong, tuju, perintah, tangan, covid, tp, ma...         0\n",
            "1  [covid, elit, global, main, perintah, masyarak...         0\n",
            "2  [ya, egois, materi, rs, pasien, covid, insenti...         0\n",
            "3  [perintah, tuh, terap, herd, immunity, mampu, ...         0\n",
            "4  [bilang, untung, ribu, warga, mati, daftar, ko...         0\n",
            "5                    [bahaya, covid, perintah, atas]         0\n",
            "6  [salah, keluarga, menit, tinggal, gara, gara, ...         0\n",
            "7  [turun, masyarakat, sadar, perintah, ajar, tai...         0\n",
            "8    [perintah, sepele, covid, suruh, damai, dengan]         0\n",
            "9  [damai, covid, rang, covid, protocol, sehat, w...         0\n",
            "\n",
            "                                               Tweet  Sentimen\n",
            "0   golong tidak tuju perintah tangan covid tp ma...         0\n",
            "1   covid elit global main perintah masyarakat re...         0\n",
            "2   ya egois materi rs pasien covid insentif klai...         0\n",
            "3   perintah tuh terap herd immunity perintah nih...         0\n",
            "4   bilang untung ribu warga mati daftar korban c...         0\n",
            "5                              bahaya covid perintah         0\n",
            "6   salah keluarga menit tinggal gara gara covid ...         0\n",
            "7   turun masyarakat sadar perintah ajar taiwan k...         0\n",
            "8                  perintah sepele covid suruh damai         0\n",
            "9   tidak damai covid rang covid protocol sehat w...         0\n",
            "\n"
          ],
          "name": "stdout"
        }
      ]
    },
    {
      "cell_type": "code",
      "metadata": {
        "id": "NGWVwCJV6Cmk"
      },
      "source": [
        "import gensim\n",
        "from tqdm import tqdm\n",
        "from sklearn.preprocessing import StandardScaler"
      ],
      "execution_count": null,
      "outputs": []
    },
    {
      "cell_type": "code",
      "metadata": {
        "id": "HMviLC2T62bK"
      },
      "source": [
        "#Train on text data\n",
        "list_of_sent = df[\"Tweet\"]\n",
        "w2v_model=gensim.models.Word2Vec(list_of_sent,min_count=4,size=200, workers=4) #size = ukuran vector yg diinginkan, default cbow\n",
        "w2v_words=list(w2v_model.wv.vocab) #corpus/vocab ambil dr kata yg ada di data train "
      ],
      "execution_count": null,
      "outputs": []
    },
    {
      "cell_type": "code",
      "metadata": {
        "id": "MVE0Xx-O65Dd",
        "colab": {
          "base_uri": "https://localhost:8080/"
        },
        "outputId": "da0ca5b8-1c59-4bb2-8884-f7518eaa172a"
      },
      "source": [
        "len(w2v_words)"
      ],
      "execution_count": null,
      "outputs": [
        {
          "output_type": "execute_result",
          "data": {
            "text/plain": [
              "545"
            ]
          },
          "metadata": {
            "tags": []
          },
          "execution_count": 46
        }
      ]
    },
    {
      "cell_type": "code",
      "metadata": {
        "id": "znmtiHN569xq",
        "colab": {
          "base_uri": "https://localhost:8080/"
        },
        "outputId": "7bc95f32-1310-4faf-cf16-8d537c49a447"
      },
      "source": [
        "#Vectorize train text data\n",
        "listof_sent_vec=[]\n",
        "for sent in tqdm(list_of_sent): \n",
        "    sent_vec = np.zeros(200) \n",
        "    cnt_words =0; \n",
        "    for word in sent: \n",
        "        if word in w2v_words:\n",
        "            vec = w2v_model.wv[word]\n",
        "            sent_vec += vec\n",
        "            cnt_words += 1\n",
        "    if cnt_words != 0:\n",
        "        sent_vec /= cnt_words\n",
        "    listof_sent_vec.append(sent_vec)\n",
        "    \n",
        "Label = df[\"Sentimen\"]\n",
        "list_col=tuple(range(200))\n",
        "Scaler = StandardScaler()\n",
        "data_vec = Scaler.fit_transform(listof_sent_vec)\n",
        "W2v_data=pd.DataFrame(data=data_vec, columns=list_col)\n",
        "W2v_data[\"Sentimen\"] = Label\n",
        "print(W2v_data.head(10))\n",
        "print(W2v_data.shape)"
      ],
      "execution_count": null,
      "outputs": [
        {
          "output_type": "stream",
          "text": [
            "100%|██████████| 801/801 [00:00<00:00, 7081.91it/s]\n"
          ],
          "name": "stderr"
        },
        {
          "output_type": "stream",
          "text": [
            "          0         1         2  ...       198       199  Sentimen\n",
            "0 -0.056818 -0.055623  0.060862  ... -0.144777  0.085918         0\n",
            "1  0.468610  0.501593 -0.493443  ...  0.476012 -0.509994         0\n",
            "2 -0.760823 -0.775617  0.753177  ... -0.749366  0.742809         0\n",
            "3 -0.800025 -0.828516  0.788347  ... -0.822729  0.823857         0\n",
            "4 -0.272453 -0.288062  0.332061  ... -0.327988  0.269087         0\n",
            "5  2.396287  2.330507 -2.398815  ...  2.392706 -2.324584         0\n",
            "6  0.049855  0.086860 -0.010563  ...  0.040401 -0.117660         0\n",
            "7  1.291027  1.273197 -1.331761  ...  1.383578 -1.301767         0\n",
            "8  0.588949  0.652067 -0.663222  ...  0.564595 -0.655312         0\n",
            "9 -0.428788 -0.427825  0.391038  ... -0.535917  0.511354         0\n",
            "\n",
            "[10 rows x 201 columns]\n",
            "(801, 201)\n"
          ],
          "name": "stdout"
        }
      ]
    },
    {
      "cell_type": "code",
      "metadata": {
        "id": "bF_VOP277Luu",
        "colab": {
          "base_uri": "https://localhost:8080/"
        },
        "outputId": "62d9adb3-b499-4dee-e9a3-d037d69f8976"
      },
      "source": [
        "X = W2v_data.drop(\"Sentimen\",axis=1).to_numpy()\n",
        "X"
      ],
      "execution_count": null,
      "outputs": [
        {
          "output_type": "execute_result",
          "data": {
            "text/plain": [
              "array([[-0.05681775, -0.05562282,  0.06086221, ..., -0.04723046,\n",
              "        -0.1447774 ,  0.08591764],\n",
              "       [ 0.46860951,  0.50159287, -0.49344262, ...,  0.49315209,\n",
              "         0.47601176, -0.50999408],\n",
              "       [-0.7608227 , -0.77561718,  0.75317733, ..., -0.76468523,\n",
              "        -0.7493663 ,  0.74280853],\n",
              "       ...,\n",
              "       [ 0.88313214,  0.87215798, -0.89621432, ...,  0.90776169,\n",
              "         0.88673978, -0.78005213],\n",
              "       [-1.10413429, -1.06360799,  1.10953144, ..., -1.11387633,\n",
              "        -1.13848876,  1.07998732],\n",
              "       [ 0.3581217 ,  0.33437466, -0.37139395, ...,  0.40744558,\n",
              "         0.25819685, -0.37476435]])"
            ]
          },
          "metadata": {
            "tags": []
          },
          "execution_count": 48
        }
      ]
    },
    {
      "cell_type": "code",
      "metadata": {
        "id": "7tEm-fwb7ZIL",
        "colab": {
          "base_uri": "https://localhost:8080/"
        },
        "outputId": "e6f28a2a-604d-4213-bd13-482a91593da2"
      },
      "source": [
        "y = W2v_data[\"Sentimen\"].to_numpy()\n",
        "y[0:5]"
      ],
      "execution_count": null,
      "outputs": [
        {
          "output_type": "execute_result",
          "data": {
            "text/plain": [
              "array([0, 0, 0, 0, 0])"
            ]
          },
          "metadata": {
            "tags": []
          },
          "execution_count": 49
        }
      ]
    },
    {
      "cell_type": "code",
      "metadata": {
        "id": "r7cNS-xg7d-P"
      },
      "source": [
        "from sklearn import model_selection, svm\n",
        "from sklearn.model_selection import KFold\n",
        "from sklearn.metrics import accuracy_score\n",
        "from sklearn.metrics import precision_score\n",
        "from sklearn.metrics import recall_score\n",
        "from sklearn.metrics import confusion_matrix\n",
        "from scipy.sparse import csr_matrix as matrixTransform"
      ],
      "execution_count": null,
      "outputs": []
    },
    {
      "cell_type": "code",
      "metadata": {
        "id": "6upwsjbU7vmt"
      },
      "source": [
        "class myClass:\n",
        "    def __init__(self):\n",
        "        self.recall = 0\n",
        "        self.acc = 0\n",
        "        self.pres = 0\n",
        "    def getRecall(self):\n",
        "        return self.recall\n",
        "    def getPres(self):\n",
        "        return self.pres\n",
        "    def setRecall(self, recall):\n",
        "        self.recall = recall\n",
        "    def setPres(self, pres):\n",
        "        self.pres = pres"
      ],
      "execution_count": null,
      "outputs": []
    },
    {
      "cell_type": "code",
      "metadata": {
        "id": "WD00Ptiz7ybS"
      },
      "source": [
        "def classify2():\n",
        "\n",
        "    SVM = svm.SVC(C=1, kernel='linear', probability=True)\n",
        "    SVM.fit(Train_X_final, y_train)\n",
        "    predictions_SVM = SVM.predict(Test_X_final)\n",
        "\n",
        "    acc = accuracy_score(predictions_SVM, y_test)\n",
        "    CM = confusion_matrix(y_test, predictions_SVM)\n",
        "    TN = CM[0][0]\n",
        "    FN = CM[1][0]\n",
        "    TP = CM[1][1]\n",
        "    FP = CM[0][1]\n",
        "    try :\n",
        "        pres = TP/(TP+FP)\n",
        "    except :\n",
        "        pres = 0  \n",
        "    accu = (TP+TN)/(TP+FP+TN+FN)\n",
        "    recall = TP/(TP+FN)\n",
        "\n",
        "    acc = accuracy_score(y_test, predictions_SVM)\n",
        "    recll = recall_score(y_test, predictions_SVM)\n",
        "    prec = precision_score(y_test, predictions_SVM)\n",
        "    \n",
        "    obj.setRecall(recall)\n",
        "    obj.setPres(pres)\n",
        "    \n",
        "    print(\"Confusion Matrix\")\n",
        "    print(CM)\n",
        "    return accu"
      ],
      "execution_count": null,
      "outputs": []
    },
    {
      "cell_type": "code",
      "metadata": {
        "id": "E3cCDVId76ZB"
      },
      "source": [
        "obj = myClass()\n",
        "acc_scores = []\n",
        "presisi_scores = []\n",
        "recall_scores = []\n",
        "cv = KFold(n_splits=10, random_state=32, shuffle=True)\n",
        "for train_index, test_index in cv.split(X):\n",
        "    X_train, X_test, y_train, y_test = X[train_index], X[test_index], y[train_index], y[test_index]\n",
        "\n",
        "    Test_X_final = matrixTransform(X_test)\n",
        "    Train_X_final = matrixTransform(X_train)    \n",
        "    print(\"Data Train :\", len(X_train))\n",
        "    print(\"Data Test :\", len(X_test))\n",
        "\n",
        "    acc= classify2()\n",
        "    acc_scores.append(acc)\n",
        "    presisi_scores.append(obj.getPres())\n",
        "    recall_scores.append(obj.getRecall())"
      ],
      "execution_count": null,
      "outputs": []
    },
    {
      "cell_type": "code",
      "metadata": {
        "id": "1hJHgypX8CDL"
      },
      "source": [
        "print(\"Pengujian dengan SVM...\")\n",
        "print(\"Accuracy :\", acc_scores)\n",
        "print(\"Presisi :\", presisi_scores)\n",
        "print(\"Recall :\", recall_scores)\n",
        "print(\"Accuracy Average :\", np.mean(acc_scores))\n",
        "print(\"Presisi Average :\", np.mean(presisi_scores)) \n",
        "print(\"Recall Average :\", np.mean(recall_scores))"
      ],
      "execution_count": null,
      "outputs": []
    },
    {
      "cell_type": "code",
      "metadata": {
        "id": "37Z6zjG9TIIH"
      },
      "source": [
        "SVM = svm.SVC(C=1, kernel='linear', probability=True)\n",
        "cv = StratifiedKFold(n_splits=10,shuffle=False)"
      ],
      "execution_count": null,
      "outputs": []
    },
    {
      "cell_type": "code",
      "metadata": {
        "id": "ntIgOFcHRgCN"
      },
      "source": [
        "import matplotlib.pylab as plt\n",
        "from scipy import interp\n",
        "from sklearn import model_selection\n",
        "from sklearn.metrics import roc_curve,auc\n",
        "from sklearn.model_selection import StratifiedKFold\n",
        "import matplotlib.patches as patches\n",
        "\n",
        "fig1 = plt.figure(figsize=[8,8])\n",
        "ax1 = fig1.add_subplot(111,aspect = 'equal')\n",
        "#ax1.add_patch(\n",
        "#    patches.Arrow(0.45,0.5,-0.25,0.25,width=0.3,color='green',alpha = 0.5)\n",
        "#    )\n",
        "#ax1.add_patch(\n",
        "#    patches.Arrow(0.5,0.45,0.25,-0.25,width=0.3,color='red',alpha = 0.5)\n",
        "#    )\n",
        "\n",
        "tprs = []\n",
        "aucs = []\n",
        "mean_fpr = np.linspace(0,1,100)\n",
        "i = 1\n",
        "for train,test in cv.split(X,y):\n",
        "    prediction = SVM.fit(X[train],y[train]).predict_proba(X[test])\n",
        "    fpr, tpr, t = roc_curve(y[test], prediction[:, 1])\n",
        "    tprs.append(interp(mean_fpr, fpr, tpr))\n",
        "    roc_auc = auc(fpr, tpr)\n",
        "    aucs.append(roc_auc)\n",
        "    plt.plot(fpr, tpr, lw=2, alpha=0.3, label='ROC fold %d (AUC = %0.2f)' % (i, roc_auc))\n",
        "    i= i+1\n",
        "\n",
        "plt.plot([0,1],[0,1],linestyle = '--',lw = 2,color = 'black')\n",
        "mean_tpr = np.mean(tprs, axis=0)\n",
        "mean_auc = auc(mean_fpr, mean_tpr)\n",
        "plt.plot(mean_fpr, mean_tpr, color='blue',\n",
        "         label=r'Mean ROC (AUC = %0.2f )' % (mean_auc),lw=2, alpha=1)\n",
        "\n",
        "plt.xlabel('False Positive Rate')\n",
        "plt.ylabel('True Positive Rate')\n",
        "plt.title('ROC')\n",
        "plt.legend(loc=\"lower right\")\n",
        "#plt.text(0.32,0.7,'More accurate area',fontsize = 12)\n",
        "#plt.text(0.63,0.4,'Less accurate area',fontsize = 12)\n",
        "plt.show()"
      ],
      "execution_count": null,
      "outputs": []
    },
    {
      "cell_type": "code",
      "metadata": {
        "id": "UR9IkwMY8JsJ"
      },
      "source": [
        "from sklearn.neighbors import KNeighborsClassifier\n",
        "def classify3():\n",
        "\n",
        "    knn = KNeighborsClassifier(n_neighbors=7, weights=\"distance\", p=2)\n",
        "    knn.fit(Train_X_final, y_train)\n",
        "    predictions_KNN = knn.predict(Test_X_final)\n",
        "\n",
        "    acc = accuracy_score(predictions_KNN, y_test)\n",
        "    CM = confusion_matrix(y_test, predictions_KNN)\n",
        "    TN = CM[0][0]\n",
        "    FN = CM[1][0]\n",
        "    TP = CM[1][1]\n",
        "    FP = CM[0][1]\n",
        "    try :\n",
        "        pres = TP/(TP+FP)\n",
        "    except :\n",
        "        pres = 0  \n",
        "    accu = (TP+TN)/(TP+FP+TN+FN)\n",
        "    recall = TP/(TP+FN)\n",
        "\n",
        "    acc = accuracy_score(y_test, predictions_KNN)\n",
        "    recll = recall_score(y_test, predictions_KNN)\n",
        "    prec = precision_score(y_test, predictions_KNN)\n",
        "    \n",
        "    obj.setRecall(recall)\n",
        "    obj.setPres(pres)\n",
        "    \n",
        "    print(\"Confusion Matrix\")\n",
        "    print(CM)\n",
        "    return accu"
      ],
      "execution_count": null,
      "outputs": []
    },
    {
      "cell_type": "code",
      "metadata": {
        "id": "d_MEaP7K80Uw",
        "colab": {
          "base_uri": "https://localhost:8080/"
        },
        "outputId": "f4d8c927-fddc-4477-c2ac-8d7e4813eb2f"
      },
      "source": [
        "obj = myClass()\n",
        "acc_scores = []\n",
        "presisi_scores = []\n",
        "recall_scores = []\n",
        "cv = KFold(n_splits=10, random_state=32, shuffle=True)\n",
        "for train_index, test_index in cv.split(X):\n",
        "    X_train, X_test, y_train, y_test = X[train_index], X[test_index], y[train_index], y[test_index]\n",
        "\n",
        "    Test_X_final = matrixTransform(X_test)\n",
        "    Train_X_final = matrixTransform(X_train)    \n",
        "    print(\"Data Train :\", len(X_train))\n",
        "    print(\"Data Test :\", len(X_test))\n",
        "\n",
        "    acc= classify3()\n",
        "    acc_scores.append(acc)\n",
        "    presisi_scores.append(obj.getPres())\n",
        "    recall_scores.append(obj.getRecall())"
      ],
      "execution_count": null,
      "outputs": [
        {
          "output_type": "stream",
          "text": [
            "Data Train : 720\n",
            "Data Test : 81\n",
            "Confusion Matrix\n",
            "[[29 16]\n",
            " [13 23]]\n",
            "Data Train : 721\n",
            "Data Test : 80\n",
            "Confusion Matrix\n",
            "[[30 13]\n",
            " [16 21]]\n",
            "Data Train : 721\n",
            "Data Test : 80\n",
            "Confusion Matrix\n",
            "[[28 13]\n",
            " [14 25]]\n",
            "Data Train : 721\n",
            "Data Test : 80\n",
            "Confusion Matrix\n",
            "[[24  6]\n",
            " [17 33]]\n",
            "Data Train : 721\n",
            "Data Test : 80\n",
            "Confusion Matrix\n",
            "[[30 11]\n",
            " [14 25]]\n",
            "Data Train : 721\n",
            "Data Test : 80\n",
            "Confusion Matrix\n",
            "[[27  8]\n",
            " [16 29]]\n",
            "Data Train : 721\n",
            "Data Test : 80\n",
            "Confusion Matrix\n",
            "[[28 13]\n",
            " [16 23]]\n",
            "Data Train : 721\n",
            "Data Test : 80\n",
            "Confusion Matrix\n",
            "[[27 13]\n",
            " [18 22]]\n",
            "Data Train : 721\n",
            "Data Test : 80\n",
            "Confusion Matrix\n",
            "[[36  8]\n",
            " [19 17]]\n",
            "Data Train : 721\n",
            "Data Test : 80\n",
            "Confusion Matrix\n",
            "[[27 14]\n",
            " [18 21]]\n"
          ],
          "name": "stdout"
        }
      ]
    },
    {
      "cell_type": "code",
      "metadata": {
        "id": "1las_M7j84yi",
        "colab": {
          "base_uri": "https://localhost:8080/"
        },
        "outputId": "dd5e8c98-9cae-4ce9-f788-8cca74dc1c22"
      },
      "source": [
        "print(\"Pengujian dengan KNN...\")\n",
        "print(\"Accuracy :\", acc_scores)\n",
        "print(\"Presisi :\", presisi_scores)\n",
        "print(\"Recall :\", recall_scores)\n",
        "print(\"Accuracy Average :\", np.mean(acc_scores))\n",
        "print(\"Presisi Average :\", np.mean(presisi_scores)) \n",
        "print(\"Recall Average :\", np.mean(recall_scores))"
      ],
      "execution_count": null,
      "outputs": [
        {
          "output_type": "stream",
          "text": [
            "Pengujian dengan KNN...\n",
            "Accuracy : [0.6419753086419753, 0.6375, 0.6625, 0.7125, 0.6875, 0.7, 0.6375, 0.6125, 0.6625, 0.6]\n",
            "Presisi : [0.5897435897435898, 0.6176470588235294, 0.6578947368421053, 0.8461538461538461, 0.6944444444444444, 0.7837837837837838, 0.6388888888888888, 0.6285714285714286, 0.68, 0.6]\n",
            "Recall : [0.6388888888888888, 0.5675675675675675, 0.6410256410256411, 0.66, 0.6410256410256411, 0.6444444444444445, 0.5897435897435898, 0.55, 0.4722222222222222, 0.5384615384615384]\n",
            "Accuracy Average : 0.6554475308641974\n",
            "Presisi Average : 0.6737127777251615\n",
            "Recall Average : 0.5943379533379534\n"
          ],
          "name": "stdout"
        }
      ]
    },
    {
      "cell_type": "code",
      "metadata": {
        "id": "e0Ur3xmI9BbN"
      },
      "source": [
        "import matplotlib.pylab as plt\n",
        "from scipy import interp\n",
        "from sklearn import model_selection\n",
        "from sklearn.metrics import roc_curve,auc\n",
        "from sklearn.model_selection import StratifiedKFold\n",
        "import matplotlib.patches as patches\n",
        "KNN = KNeighborsClassifier(n_neighbors=7, weights=\"distance\", p=2)\n",
        "cv = StratifiedKFold(n_splits=10,shuffle=False)"
      ],
      "execution_count": null,
      "outputs": []
    },
    {
      "cell_type": "code",
      "metadata": {
        "id": "Y7a6WMktWX6v",
        "colab": {
          "base_uri": "https://localhost:8080/",
          "height": 873
        },
        "outputId": "90c07ea8-d832-4587-e896-6d7bde4eae4b"
      },
      "source": [
        "fig1 = plt.figure(figsize=[8,8])\n",
        "ax1 = fig1.add_subplot(111,aspect = 'equal')\n",
        "\n",
        "tprs = []\n",
        "aucs = []\n",
        "mean_fpr = np.linspace(0,1,100)\n",
        "i = 1\n",
        "for train,test in cv.split(X,y):\n",
        "    prediction = KNN.fit(X[train],y[train]).predict_proba(X[test])\n",
        "    fpr, tpr, t = roc_curve(y[test], prediction[:, 1])\n",
        "    tprs.append(interp(mean_fpr, fpr, tpr))\n",
        "    roc_auc = auc(fpr, tpr)\n",
        "    aucs.append(roc_auc)\n",
        "    plt.plot(fpr, tpr, lw=2, alpha=0.3, label='ROC fold %d (AUC = %0.2f)' % (i, roc_auc))\n",
        "    i= i+1\n",
        "\n",
        "plt.plot([0,1],[0,1],linestyle = '--',lw = 2,color = 'black')\n",
        "mean_tpr = np.mean(tprs, axis=0)\n",
        "mean_auc = auc(mean_fpr, mean_tpr)\n",
        "plt.plot(mean_fpr, mean_tpr, color='blue',\n",
        "         label=r'Mean ROC (AUC = %0.2f )' % (mean_auc),lw=2, alpha=1)\n",
        "\n",
        "plt.xlabel('False Positive Rate')\n",
        "plt.ylabel('True Positive Rate')\n",
        "plt.title('ROC')\n",
        "plt.legend(loc=\"lower right\")\n",
        "#plt.text(0.32,0.7,'More accurate area',fontsize = 12)\n",
        "#plt.text(0.63,0.4,'Less accurate area',fontsize = 12)\n",
        "plt.show()"
      ],
      "execution_count": null,
      "outputs": [
        {
          "output_type": "stream",
          "text": [
            "/usr/local/lib/python3.7/dist-packages/ipykernel_launcher.py:11: DeprecationWarning: scipy.interp is deprecated and will be removed in SciPy 2.0.0, use numpy.interp instead\n",
            "  # This is added back by InteractiveShellApp.init_path()\n",
            "/usr/local/lib/python3.7/dist-packages/ipykernel_launcher.py:11: DeprecationWarning: scipy.interp is deprecated and will be removed in SciPy 2.0.0, use numpy.interp instead\n",
            "  # This is added back by InteractiveShellApp.init_path()\n",
            "/usr/local/lib/python3.7/dist-packages/ipykernel_launcher.py:11: DeprecationWarning: scipy.interp is deprecated and will be removed in SciPy 2.0.0, use numpy.interp instead\n",
            "  # This is added back by InteractiveShellApp.init_path()\n",
            "/usr/local/lib/python3.7/dist-packages/ipykernel_launcher.py:11: DeprecationWarning: scipy.interp is deprecated and will be removed in SciPy 2.0.0, use numpy.interp instead\n",
            "  # This is added back by InteractiveShellApp.init_path()\n",
            "/usr/local/lib/python3.7/dist-packages/ipykernel_launcher.py:11: DeprecationWarning: scipy.interp is deprecated and will be removed in SciPy 2.0.0, use numpy.interp instead\n",
            "  # This is added back by InteractiveShellApp.init_path()\n",
            "/usr/local/lib/python3.7/dist-packages/ipykernel_launcher.py:11: DeprecationWarning: scipy.interp is deprecated and will be removed in SciPy 2.0.0, use numpy.interp instead\n",
            "  # This is added back by InteractiveShellApp.init_path()\n",
            "/usr/local/lib/python3.7/dist-packages/ipykernel_launcher.py:11: DeprecationWarning: scipy.interp is deprecated and will be removed in SciPy 2.0.0, use numpy.interp instead\n",
            "  # This is added back by InteractiveShellApp.init_path()\n",
            "/usr/local/lib/python3.7/dist-packages/ipykernel_launcher.py:11: DeprecationWarning: scipy.interp is deprecated and will be removed in SciPy 2.0.0, use numpy.interp instead\n",
            "  # This is added back by InteractiveShellApp.init_path()\n",
            "/usr/local/lib/python3.7/dist-packages/ipykernel_launcher.py:11: DeprecationWarning: scipy.interp is deprecated and will be removed in SciPy 2.0.0, use numpy.interp instead\n",
            "  # This is added back by InteractiveShellApp.init_path()\n",
            "/usr/local/lib/python3.7/dist-packages/ipykernel_launcher.py:11: DeprecationWarning: scipy.interp is deprecated and will be removed in SciPy 2.0.0, use numpy.interp instead\n",
            "  # This is added back by InteractiveShellApp.init_path()\n"
          ],
          "name": "stderr"
        },
        {
          "output_type": "display_data",
          "data": {
            "image/png": "[encoded data removed]",
            "text/plain": [
              "<Figure size 576x576 with 1 Axes>"
            ]
          },
          "metadata": {
            "tags": [],
            "needs_background": "light"
          }
        }
      ]
    },
    {
      "cell_type": "code",
      "metadata": {
        "id": "HiC4QFxtWa9P"
      },
      "source": [
        ""
      ],
      "execution_count": null,
      "outputs": []
    }
  ]
}